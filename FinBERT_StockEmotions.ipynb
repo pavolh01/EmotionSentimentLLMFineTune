{
  "cells": [
    {
      "cell_type": "code",
      "execution_count": null,
      "id": "da8ca277-d101-401f-b18a-8b47ec5efdf9",
      "metadata": {
        "id": "da8ca277-d101-401f-b18a-8b47ec5efdf9",
        "outputId": "77337911-5e55-49b2-f07c-beab4189311d"
      },
      "outputs": [
        {
          "name": "stdout",
          "output_type": "stream",
          "text": [
            "Dataset loaded: DatasetDict({\n",
            "    train: Dataset({\n",
            "        features: ['sentence', 'label'],\n",
            "        num_rows: 3453\n",
            "    })\n",
            "})\n"
          ]
        },
        {
          "name": "stderr",
          "output_type": "stream",
          "text": [
            "Some weights of DistilBertForSequenceClassification were not initialized from the model checkpoint at distilbert-base-uncased and are newly initialized: ['classifier.bias', 'classifier.weight', 'pre_classifier.bias', 'pre_classifier.weight']\n",
            "You should probably TRAIN this model on a down-stream task to be able to use it for predictions and inference.\n",
            "/home/jovyan/.local/lib/python3.11/site-packages/transformers/training_args.py:1594: FutureWarning: `evaluation_strategy` is deprecated and will be removed in version 4.46 of 🤗 Transformers. Use `eval_strategy` instead\n",
            "  warnings.warn(\n"
          ]
        },
        {
          "name": "stdout",
          "output_type": "stream",
          "text": [
            "Train size: 2417, Val size: 518, Test size: 518\n",
            "Starting fine-tuning...\n"
          ]
        },
        {
          "data": {
            "text/html": [
              "\n",
              "    <div>\n",
              "      \n",
              "      <progress value='1200' max='3030' style='width:300px; height:20px; vertical-align: middle;'></progress>\n",
              "      [1200/3030 00:52 < 01:20, 22.87 it/s, Epoch 3/10]\n",
              "    </div>\n",
              "    <table border=\"1\" class=\"dataframe\">\n",
              "  <thead>\n",
              " <tr style=\"text-align: left;\">\n",
              "      <th>Step</th>\n",
              "      <th>Training Loss</th>\n",
              "      <th>Validation Loss</th>\n",
              "      <th>Accuracy</th>\n",
              "      <th>F1</th>\n",
              "    </tr>\n",
              "  </thead>\n",
              "  <tbody>\n",
              "    <tr>\n",
              "      <td>200</td>\n",
              "      <td>0.714700</td>\n",
              "      <td>0.612579</td>\n",
              "      <td>0.745174</td>\n",
              "      <td>0.700229</td>\n",
              "    </tr>\n",
              "    <tr>\n",
              "      <td>400</td>\n",
              "      <td>0.276900</td>\n",
              "      <td>0.507670</td>\n",
              "      <td>0.814672</td>\n",
              "      <td>0.823641</td>\n",
              "    </tr>\n",
              "    <tr>\n",
              "      <td>600</td>\n",
              "      <td>0.241600</td>\n",
              "      <td>0.304337</td>\n",
              "      <td>0.909266</td>\n",
              "      <td>0.905866</td>\n",
              "    </tr>\n",
              "    <tr>\n",
              "      <td>800</td>\n",
              "      <td>0.181200</td>\n",
              "      <td>0.308820</td>\n",
              "      <td>0.897683</td>\n",
              "      <td>0.900165</td>\n",
              "    </tr>\n",
              "    <tr>\n",
              "      <td>1000</td>\n",
              "      <td>0.066500</td>\n",
              "      <td>0.399483</td>\n",
              "      <td>0.907336</td>\n",
              "      <td>0.909392</td>\n",
              "    </tr>\n",
              "    <tr>\n",
              "      <td>1200</td>\n",
              "      <td>0.120800</td>\n",
              "      <td>0.361412</td>\n",
              "      <td>0.907336</td>\n",
              "      <td>0.908856</td>\n",
              "    </tr>\n",
              "  </tbody>\n",
              "</table><p>"
            ],
            "text/plain": [
              "<IPython.core.display.HTML object>"
            ]
          },
          "metadata": {},
          "output_type": "display_data"
        },
        {
          "name": "stdout",
          "output_type": "stream",
          "text": [
            "Evaluating on test set...\n"
          ]
        },
        {
          "data": {
            "text/html": [
              "\n",
              "    <div>\n",
              "      \n",
              "      <progress value='65' max='65' style='width:300px; height:20px; vertical-align: middle;'></progress>\n",
              "      [65/65 00:00]\n",
              "    </div>\n",
              "    "
            ],
            "text/plain": [
              "<IPython.core.display.HTML object>"
            ]
          },
          "metadata": {},
          "output_type": "display_data"
        },
        {
          "name": "stdout",
          "output_type": "stream",
          "text": [
            "Test results: {'eval_loss': 0.39173537492752075, 'eval_accuracy': 0.9285714285714286, 'eval_f1': 0.9295369400025413, 'eval_runtime': 0.3853, 'eval_samples_per_second': 1344.248, 'eval_steps_per_second': 168.68, 'epoch': 3.9603960396039604}\n",
            "Model and tokenizer saved to ./distilbert_financial_phasebank\n",
            "Sample text: 'The company's stock surged after a strong earnings report.'\n",
            "Predicted sentiment: positive\n"
          ]
        }
      ],
      "source": [
        "import torch\n",
        "from transformers import DistilBertTokenizer, DistilBertForSequenceClassification, Trainer, TrainingArguments, EarlyStoppingCallback\n",
        "from datasets import load_dataset\n",
        "from sklearn.metrics import accuracy_score, f1_score\n",
        "import numpy as np\n",
        "\n",
        "# random seed for reproducibility\n",
        "torch.manual_seed(42)\n",
        "np.random.seed(42)\n",
        "\n",
        "#  Financial PhraseBank dataset  \"sentences_75agree\", includes 3453 sentences where at least 75% of annotators agreed on the sentiment label, striking a balance between quality (higher agreement) and size\n",
        "dataset = load_dataset(\"financial_phrasebank\", \"sentences_75agree\")\n",
        "print(\"Dataset loaded:\", dataset)\n",
        "\n",
        "\n",
        "label_map = {0: \"negative\", 1: \"neutral\", 2: \"positive\"}\n",
        "num_labels = 3\n",
        "\n",
        "\n",
        "tokenizer = DistilBertTokenizer.from_pretrained(\"distilbert-base-uncased\")\n",
        "model = DistilBertForSequenceClassification.from_pretrained(\"distilbert-base-uncased\", num_labels=num_labels)\n",
        "\n",
        "\n",
        "def preprocess_function(examples):\n",
        "    tokenized = tokenizer(examples[\"sentence\"], truncation=True, padding=\"max_length\", max_length=256)\n",
        "    tokenized[\"labels\"] = examples[\"label\"]\n",
        "    return tokenized\n",
        "\n",
        "\n",
        "encoded_dataset = dataset.map(preprocess_function, batched=True)\n",
        "encoded_dataset.set_format(\"torch\", columns=[\"input_ids\", \"attention_mask\", \"labels\"])\n",
        "\n",
        "#  train (70%), validation (15%), and test (15%)\n",
        "train_val_split = encoded_dataset[\"train\"].train_test_split(test_size=0.3, seed=42)\n",
        "val_test_split = train_val_split[\"test\"].train_test_split(test_size=0.5, seed=42)\n",
        "train_dataset = train_val_split[\"train\"]\n",
        "val_dataset = val_test_split[\"train\"]\n",
        "test_dataset = val_test_split[\"test\"]\n",
        "print(f\"Train size: {len(train_dataset)}, Val size: {len(val_dataset)}, Test size: {len(test_dataset)}\")\n",
        "\n",
        "\n",
        "def compute_metrics(pred):\n",
        "    labels = pred.label_ids\n",
        "    preds = np.argmax(pred.predictions, axis=1)\n",
        "    accuracy = accuracy_score(labels, preds)\n",
        "    f1 = f1_score(labels, preds, average=\"weighted\")\n",
        "    return {\"accuracy\": accuracy, \"f1\": f1}\n",
        "\n",
        "\n",
        "training_args = TrainingArguments(\n",
        "    output_dir=\"./distilbert-financial-sentiment\",\n",
        "    evaluation_strategy=\"steps\",\n",
        "    save_strategy=\"steps\",\n",
        "    save_steps=200,\n",
        "    eval_steps=200,\n",
        "    learning_rate=2e-5,\n",
        "    per_device_train_batch_size=8,\n",
        "    per_device_eval_batch_size=8,\n",
        "    num_train_epochs=10,\n",
        "    weight_decay=0.01,\n",
        "    warmup_steps=500,\n",
        "    load_best_model_at_end=True,\n",
        "    metric_for_best_model=\"f1\",\n",
        "    greater_is_better=True,\n",
        "    logging_dir=\"./logs\",\n",
        "    logging_steps=50,\n",
        "    fp16=True,\n",
        ")\n",
        "\n",
        "\n",
        "trainer = Trainer(\n",
        "    model=model,\n",
        "    args=training_args,\n",
        "    train_dataset=train_dataset,\n",
        "    eval_dataset=val_dataset,\n",
        "    compute_metrics=compute_metrics,\n",
        "    callbacks=[EarlyStoppingCallback(early_stopping_patience=3, early_stopping_threshold=0.01)],\n",
        ")\n",
        "\n",
        "\n",
        "trainer.train()\n",
        "\n",
        "\n",
        "print(\"Evaluating on test set...\")\n",
        "test_results = trainer.evaluate(test_dataset)\n",
        "print(\"Test results:\", test_results)\n",
        "\n",
        "\n",
        "final_model_dir = \"./distilbert_financial_phasebank\"\n",
        "model.save_pretrained(final_model_dir)\n",
        "tokenizer.save_pretrained(final_model_dir)\n",
        "print(f\"Model and tokenizer saved to {final_model_dir}\")\n",
        "\n",
        "#  Example inference\n",
        "def predict_sentiment(text):\n",
        "    inputs = tokenizer(text, return_tensors=\"pt\", truncation=True, padding=True, max_length=256)\n",
        "    inputs = {key: val.to(model.device) for key, val in inputs.items()}\n",
        "    with torch.no_grad():\n",
        "        outputs = model(**inputs)\n",
        "    logits = outputs.logits\n",
        "    predicted_class = torch.argmax(logits, dim=1).item()\n",
        "    return label_map[predicted_class]  # Map integer back to string for readability\n",
        "\n",
        "sample_text = \"The company's stock surged after a strong earnings report.\"\n",
        "prediction = predict_sentiment(sample_text)\n",
        "print(f\"Sample text: '{sample_text}'\")\n",
        "print(f\"Predicted sentiment: {prediction}\")"
      ]
    },
    {
      "cell_type": "code",
      "execution_count": null,
      "id": "70d10592-c56f-4ec7-b933-45a9d465c835",
      "metadata": {
        "id": "70d10592-c56f-4ec7-b933-45a9d465c835"
      },
      "outputs": [],
      "source": []
    }
  ],
  "metadata": {
    "kernelspec": {
      "display_name": "Python [conda env:base] *",
      "language": "python",
      "name": "conda-base-py"
    },
    "language_info": {
      "codemirror_mode": {
        "name": "ipython",
        "version": 3
      },
      "file_extension": ".py",
      "mimetype": "text/x-python",
      "name": "python",
      "nbconvert_exporter": "python",
      "pygments_lexer": "ipython3",
      "version": "3.11.6"
    },
    "colab": {
      "provenance": []
    }
  },
  "nbformat": 4,
  "nbformat_minor": 5
}