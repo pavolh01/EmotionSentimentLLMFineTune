{
  "cells": [
    {
      "cell_type": "code",
      "execution_count": null,
      "id": "572927d5-8803-471c-aebf-bb0096798f6c",
      "metadata": {
        "colab": {
          "referenced_widgets": [
            "0ee5bec753b344a7b2a2c6558f51350e",
            "a99d389e77c248d08f523195dfe36d48"
          ]
        },
        "id": "572927d5-8803-471c-aebf-bb0096798f6c",
        "outputId": "6f1c0b29-51d5-4776-8c1a-9eddba9cc4e2"
      },
      "outputs": [
        {
          "data": {
            "application/vnd.jupyter.widget-view+json": {
              "model_id": "0ee5bec753b344a7b2a2c6558f51350e",
              "version_major": 2,
              "version_minor": 0
            },
            "text/plain": [
              "Map:   0%|          | 0/6124 [00:00<?, ? examples/s]"
            ]
          },
          "metadata": {},
          "output_type": "display_data"
        },
        {
          "data": {
            "application/vnd.jupyter.widget-view+json": {
              "model_id": "a99d389e77c248d08f523195dfe36d48",
              "version_major": 2,
              "version_minor": 0
            },
            "text/plain": [
              "Map:   0%|          | 0/1532 [00:00<?, ? examples/s]"
            ]
          },
          "metadata": {},
          "output_type": "display_data"
        },
        {
          "name": "stderr",
          "output_type": "stream",
          "text": [
            "Some weights of DistilBertForSequenceClassification were not initialized from the model checkpoint at distilbert-base-uncased and are newly initialized: ['classifier.bias', 'classifier.weight', 'pre_classifier.bias', 'pre_classifier.weight']\n",
            "You should probably TRAIN this model on a down-stream task to be able to use it for predictions and inference.\n"
          ]
        },
        {
          "name": "stdout",
          "output_type": "stream",
          "text": [
            "⏳ Starting DistilBERT fine-tuning on ISEAR dataset...\n"
          ]
        },
        {
          "data": {
            "text/html": [
              "\n",
              "    <div>\n",
              "      \n",
              "      <progress value='3064' max='3830' style='width:300px; height:20px; vertical-align: middle;'></progress>\n",
              "      [3064/3830 03:10 < 00:47, 16.10 it/s, Epoch 8/10]\n",
              "    </div>\n",
              "    <table border=\"1\" class=\"dataframe\">\n",
              "  <thead>\n",
              " <tr style=\"text-align: left;\">\n",
              "      <th>Epoch</th>\n",
              "      <th>Training Loss</th>\n",
              "      <th>Validation Loss</th>\n",
              "      <th>Accuracy</th>\n",
              "      <th>Precision</th>\n",
              "      <th>Recall</th>\n",
              "      <th>F1</th>\n",
              "    </tr>\n",
              "  </thead>\n",
              "  <tbody>\n",
              "    <tr>\n",
              "      <td>1</td>\n",
              "      <td>1.229500</td>\n",
              "      <td>1.106296</td>\n",
              "      <td>0.624021</td>\n",
              "      <td>0.644701</td>\n",
              "      <td>0.624021</td>\n",
              "      <td>0.621497</td>\n",
              "    </tr>\n",
              "    <tr>\n",
              "      <td>2</td>\n",
              "      <td>0.891800</td>\n",
              "      <td>0.933663</td>\n",
              "      <td>0.664491</td>\n",
              "      <td>0.674422</td>\n",
              "      <td>0.664491</td>\n",
              "      <td>0.662275</td>\n",
              "    </tr>\n",
              "    <tr>\n",
              "      <td>3</td>\n",
              "      <td>0.876000</td>\n",
              "      <td>0.946623</td>\n",
              "      <td>0.678198</td>\n",
              "      <td>0.689967</td>\n",
              "      <td>0.678198</td>\n",
              "      <td>0.678089</td>\n",
              "    </tr>\n",
              "    <tr>\n",
              "      <td>4</td>\n",
              "      <td>0.685300</td>\n",
              "      <td>0.929255</td>\n",
              "      <td>0.693864</td>\n",
              "      <td>0.694598</td>\n",
              "      <td>0.693864</td>\n",
              "      <td>0.691716</td>\n",
              "    </tr>\n",
              "    <tr>\n",
              "      <td>5</td>\n",
              "      <td>0.809000</td>\n",
              "      <td>0.908010</td>\n",
              "      <td>0.697781</td>\n",
              "      <td>0.704625</td>\n",
              "      <td>0.697781</td>\n",
              "      <td>0.700417</td>\n",
              "    </tr>\n",
              "    <tr>\n",
              "      <td>6</td>\n",
              "      <td>0.507500</td>\n",
              "      <td>0.929995</td>\n",
              "      <td>0.707572</td>\n",
              "      <td>0.709312</td>\n",
              "      <td>0.707572</td>\n",
              "      <td>0.707983</td>\n",
              "    </tr>\n",
              "    <tr>\n",
              "      <td>7</td>\n",
              "      <td>0.479000</td>\n",
              "      <td>0.936001</td>\n",
              "      <td>0.706266</td>\n",
              "      <td>0.711072</td>\n",
              "      <td>0.706266</td>\n",
              "      <td>0.707525</td>\n",
              "    </tr>\n",
              "    <tr>\n",
              "      <td>8</td>\n",
              "      <td>0.440800</td>\n",
              "      <td>0.964762</td>\n",
              "      <td>0.706919</td>\n",
              "      <td>0.707996</td>\n",
              "      <td>0.706919</td>\n",
              "      <td>0.707044</td>\n",
              "    </tr>\n",
              "  </tbody>\n",
              "</table><p>"
            ],
            "text/plain": [
              "<IPython.core.display.HTML object>"
            ]
          },
          "metadata": {},
          "output_type": "display_data"
        },
        {
          "name": "stdout",
          "output_type": "stream",
          "text": [
            "✅ Training completed! 🕒 Training time: 3.18 minutes\n"
          ]
        },
        {
          "data": {
            "text/html": [
              "\n",
              "    <div>\n",
              "      \n",
              "      <progress value='96' max='96' style='width:300px; height:20px; vertical-align: middle;'></progress>\n",
              "      [96/96 00:01]\n",
              "    </div>\n",
              "    "
            ],
            "text/plain": [
              "<IPython.core.display.HTML object>"
            ]
          },
          "metadata": {},
          "output_type": "display_data"
        },
        {
          "name": "stdout",
          "output_type": "stream",
          "text": [
            "📊 DistilBERT Evaluation Results:\n",
            "{'eval_loss': 0.9080100059509277, 'eval_accuracy': 0.6977806788511749, 'eval_precision': 0.7046251446015811, 'eval_recall': 0.6977806788511749, 'eval_f1': 0.7004167240953819, 'eval_runtime': 1.3919, 'eval_samples_per_second': 1100.644, 'eval_steps_per_second': 68.97, 'epoch': 8.0}\n"
          ]
        }
      ],
      "source": [
        "import torch\n",
        "import numpy as np\n",
        "import pandas as pd\n",
        "import time\n",
        "from datasets import Dataset\n",
        "from transformers import AutoTokenizer, AutoModelForSequenceClassification, Trainer, TrainingArguments, EarlyStoppingCallback, DistilBertConfig\n",
        "from sklearn.metrics import accuracy_score, precision_recall_fscore_support\n",
        "\n",
        "\n",
        "train_df = pd.read_csv(\"ISEAR_train.csv\")\n",
        "test_df = pd.read_csv(\"ISEAR_test.csv\")\n",
        "\n",
        "\n",
        "unique_emotions = sorted(train_df[\"emotion\"].unique())\n",
        "emotion2label = {emotion: idx for idx, emotion in enumerate(unique_emotions)}\n",
        "label2emotion = {idx: emotion for emotion, idx in emotion2label.items()}\n",
        "\n",
        "train_df[\"label\"] = train_df[\"emotion\"].map(emotion2label)\n",
        "test_df[\"label\"] = test_df[\"emotion\"].map(emotion2label)\n",
        "\n",
        "\n",
        "train_dataset = Dataset.from_pandas(train_df[[\"text\", \"label\"]])\n",
        "test_dataset = Dataset.from_pandas(test_df[[\"text\", \"label\"]])\n",
        "\n",
        "\n",
        "model_name = \"distilbert-base-uncased\"\n",
        "tokenizer = AutoTokenizer.from_pretrained(model_name)\n",
        "\n",
        "def tokenize_function(examples):\n",
        "    return tokenizer(examples[\"text\"], padding=\"max_length\", truncation=True, max_length=128)\n",
        "\n",
        "train_dataset = train_dataset.map(tokenize_function, batched=True)\n",
        "test_dataset = test_dataset.map(tokenize_function, batched=True)\n",
        "\n",
        "train_dataset.set_format(type=\"torch\", columns=[\"input_ids\", \"attention_mask\", \"label\"])\n",
        "test_dataset.set_format(type=\"torch\", columns=[\"input_ids\", \"attention_mask\", \"label\"])\n",
        "\n",
        "\n",
        "num_labels = len(emotion2label)\n",
        "config = DistilBertConfig.from_pretrained(\n",
        "    model_name,\n",
        "    num_labels=num_labels,\n",
        "    dropout=0.3,  # Dropout pre skryté vrstvy\n",
        "    attention_dropout=0.3  # Dropout pre pozornosť\n",
        ")\n",
        "model = AutoModelForSequenceClassification.from_pretrained(model_name, config=config)\n",
        "\n",
        "\n",
        "training_args = TrainingArguments(\n",
        "    output_dir=\"./distilbert_finetuned\",\n",
        "    eval_strategy=\"epoch\",\n",
        "    save_strategy=\"epoch\",\n",
        "    learning_rate=2e-5,\n",
        "    per_device_train_batch_size=16,\n",
        "    per_device_eval_batch_size=16,\n",
        "    num_train_epochs=10,\n",
        "    weight_decay=0.1,  # Zvýšenie weight decay pre silnejšiu regularizáciu\n",
        "    logging_dir=\"./logs\",\n",
        "    logging_steps=10,\n",
        "    load_best_model_at_end=True,  # Načítanie najlepšieho modelu\n",
        "    metric_for_best_model=\"eval_loss\",  # Metrika pre early stopping\n",
        "    greater_is_better=False,  # Nižšia validačná strata je lepšia\n",
        ")\n",
        "\n",
        "def compute_metrics(eval_pred):\n",
        "    logits, labels = eval_pred\n",
        "    predictions = np.argmax(logits, axis=-1)\n",
        "    accuracy = accuracy_score(labels, predictions)\n",
        "    precision, recall, f1, _ = precision_recall_fscore_support(labels, predictions, average=\"weighted\")\n",
        "    return {\"accuracy\": accuracy, \"precision\": precision, \"recall\": recall, \"f1\": f1}\n",
        "\n",
        "trainer = Trainer(\n",
        "    model=model,\n",
        "    args=training_args,\n",
        "    train_dataset=train_dataset,\n",
        "    eval_dataset=test_dataset,\n",
        "    compute_metrics=compute_metrics,\n",
        "    callbacks=[EarlyStoppingCallback(early_stopping_patience=3)]  # Pridanie early stopping\n",
        ")\n",
        "\n",
        "\n",
        "start_time = time.time()\n",
        "\n",
        "trainer.train()\n",
        "\n",
        "end_time = time.time()\n",
        "training_time = end_time - start_time\n",
        "\n",
        "print(f\" Training completed!  Training time: {training_time / 60:.2f} minutes\")\n",
        "\n",
        "model.save_pretrained(\"./distilbert_finetuned\")\n",
        "tokenizer.save_pretrained(\"./distilbert_finetuned\")\n",
        "\n",
        "results = trainer.evaluate()\n",
        "print(\" DistilBERT Evaluation Results:\")\n",
        "print(results)"
      ]
    },
    {
      "cell_type": "code",
      "execution_count": null,
      "id": "48ea1e00-b184-4dd2-beb8-cfff9d8a66a5",
      "metadata": {
        "id": "48ea1e00-b184-4dd2-beb8-cfff9d8a66a5"
      },
      "outputs": [],
      "source": []
    }
  ],
  "metadata": {
    "kernelspec": {
      "display_name": "Python [conda env:base] *",
      "language": "python",
      "name": "conda-base-py"
    },
    "language_info": {
      "codemirror_mode": {
        "name": "ipython",
        "version": 3
      },
      "file_extension": ".py",
      "mimetype": "text/x-python",
      "name": "python",
      "nbconvert_exporter": "python",
      "pygments_lexer": "ipython3",
      "version": "3.11.6"
    },
    "colab": {
      "provenance": []
    }
  },
  "nbformat": 4,
  "nbformat_minor": 5
}