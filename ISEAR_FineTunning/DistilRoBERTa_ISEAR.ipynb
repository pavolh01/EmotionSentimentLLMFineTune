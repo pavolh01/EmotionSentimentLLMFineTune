{
  "cells": [
    {
      "cell_type": "code",
      "execution_count": null,
      "id": "8ee99c21-98c5-4c09-95b5-97c2bb7fde66",
      "metadata": {
        "colab": {
          "referenced_widgets": [
            "74179db5f2fe4d139f050c43ebb54a37",
            "38389e18c45d4fbaae47cae3136d7d03",
            "296cd210efa74682b9f18ac632b12451",
            "ffd6101b40674699b8b5947db026c73e",
            "d4b53ffdce8241918cda12b384c55157",
            "53a8512c414947829c0d300f4584fc78",
            "69575af38f884658bd059be88f1b294e",
            "1d602c9442d5440cb3b8af6b72173274"
          ]
        },
        "id": "8ee99c21-98c5-4c09-95b5-97c2bb7fde66",
        "outputId": "4e260fba-3730-4072-8842-b66d768d9e15"
      },
      "outputs": [
        {
          "data": {
            "application/vnd.jupyter.widget-view+json": {
              "model_id": "74179db5f2fe4d139f050c43ebb54a37",
              "version_major": 2,
              "version_minor": 0
            },
            "text/plain": [
              "tokenizer_config.json:   0%|          | 0.00/25.0 [00:00<?, ?B/s]"
            ]
          },
          "metadata": {},
          "output_type": "display_data"
        },
        {
          "data": {
            "application/vnd.jupyter.widget-view+json": {
              "model_id": "38389e18c45d4fbaae47cae3136d7d03",
              "version_major": 2,
              "version_minor": 0
            },
            "text/plain": [
              "config.json:   0%|          | 0.00/480 [00:00<?, ?B/s]"
            ]
          },
          "metadata": {},
          "output_type": "display_data"
        },
        {
          "data": {
            "application/vnd.jupyter.widget-view+json": {
              "model_id": "296cd210efa74682b9f18ac632b12451",
              "version_major": 2,
              "version_minor": 0
            },
            "text/plain": [
              "vocab.json:   0%|          | 0.00/899k [00:00<?, ?B/s]"
            ]
          },
          "metadata": {},
          "output_type": "display_data"
        },
        {
          "data": {
            "application/vnd.jupyter.widget-view+json": {
              "model_id": "ffd6101b40674699b8b5947db026c73e",
              "version_major": 2,
              "version_minor": 0
            },
            "text/plain": [
              "merges.txt:   0%|          | 0.00/456k [00:00<?, ?B/s]"
            ]
          },
          "metadata": {},
          "output_type": "display_data"
        },
        {
          "data": {
            "application/vnd.jupyter.widget-view+json": {
              "model_id": "d4b53ffdce8241918cda12b384c55157",
              "version_major": 2,
              "version_minor": 0
            },
            "text/plain": [
              "tokenizer.json:   0%|          | 0.00/1.36M [00:00<?, ?B/s]"
            ]
          },
          "metadata": {},
          "output_type": "display_data"
        },
        {
          "data": {
            "application/vnd.jupyter.widget-view+json": {
              "model_id": "53a8512c414947829c0d300f4584fc78",
              "version_major": 2,
              "version_minor": 0
            },
            "text/plain": [
              "Map:   0%|          | 0/6124 [00:00<?, ? examples/s]"
            ]
          },
          "metadata": {},
          "output_type": "display_data"
        },
        {
          "data": {
            "application/vnd.jupyter.widget-view+json": {
              "model_id": "69575af38f884658bd059be88f1b294e",
              "version_major": 2,
              "version_minor": 0
            },
            "text/plain": [
              "Map:   0%|          | 0/1532 [00:00<?, ? examples/s]"
            ]
          },
          "metadata": {},
          "output_type": "display_data"
        },
        {
          "data": {
            "application/vnd.jupyter.widget-view+json": {
              "model_id": "1d602c9442d5440cb3b8af6b72173274",
              "version_major": 2,
              "version_minor": 0
            },
            "text/plain": [
              "model.safetensors:   0%|          | 0.00/331M [00:00<?, ?B/s]"
            ]
          },
          "metadata": {},
          "output_type": "display_data"
        },
        {
          "name": "stderr",
          "output_type": "stream",
          "text": [
            "Some weights of RobertaForSequenceClassification were not initialized from the model checkpoint at distilroberta-base and are newly initialized: ['classifier.dense.bias', 'classifier.dense.weight', 'classifier.out_proj.bias', 'classifier.out_proj.weight']\n",
            "You should probably TRAIN this model on a down-stream task to be able to use it for predictions and inference.\n"
          ]
        },
        {
          "name": "stdout",
          "output_type": "stream",
          "text": [
            "⏳ Starting DistilRoBERTa fine-tuning on ISEAR dataset...\n"
          ]
        },
        {
          "data": {
            "text/html": [
              "\n",
              "    <div>\n",
              "      \n",
              "      <progress value='3830' max='3830' style='width:300px; height:20px; vertical-align: middle;'></progress>\n",
              "      [3830/3830 04:16, Epoch 10/10]\n",
              "    </div>\n",
              "    <table border=\"1\" class=\"dataframe\">\n",
              "  <thead>\n",
              " <tr style=\"text-align: left;\">\n",
              "      <th>Epoch</th>\n",
              "      <th>Training Loss</th>\n",
              "      <th>Validation Loss</th>\n",
              "      <th>Accuracy</th>\n",
              "      <th>Precision</th>\n",
              "      <th>Recall</th>\n",
              "      <th>F1</th>\n",
              "    </tr>\n",
              "  </thead>\n",
              "  <tbody>\n",
              "    <tr>\n",
              "      <td>1</td>\n",
              "      <td>1.377000</td>\n",
              "      <td>1.225775</td>\n",
              "      <td>0.545692</td>\n",
              "      <td>0.562995</td>\n",
              "      <td>0.545692</td>\n",
              "      <td>0.530622</td>\n",
              "    </tr>\n",
              "    <tr>\n",
              "      <td>2</td>\n",
              "      <td>1.110600</td>\n",
              "      <td>1.016539</td>\n",
              "      <td>0.644256</td>\n",
              "      <td>0.662770</td>\n",
              "      <td>0.644256</td>\n",
              "      <td>0.639168</td>\n",
              "    </tr>\n",
              "    <tr>\n",
              "      <td>3</td>\n",
              "      <td>1.057900</td>\n",
              "      <td>0.956602</td>\n",
              "      <td>0.672324</td>\n",
              "      <td>0.678959</td>\n",
              "      <td>0.672324</td>\n",
              "      <td>0.669410</td>\n",
              "    </tr>\n",
              "    <tr>\n",
              "      <td>4</td>\n",
              "      <td>0.937800</td>\n",
              "      <td>0.916468</td>\n",
              "      <td>0.693211</td>\n",
              "      <td>0.690744</td>\n",
              "      <td>0.693211</td>\n",
              "      <td>0.689836</td>\n",
              "    </tr>\n",
              "    <tr>\n",
              "      <td>5</td>\n",
              "      <td>1.100800</td>\n",
              "      <td>0.917372</td>\n",
              "      <td>0.693211</td>\n",
              "      <td>0.704171</td>\n",
              "      <td>0.693211</td>\n",
              "      <td>0.695739</td>\n",
              "    </tr>\n",
              "    <tr>\n",
              "      <td>6</td>\n",
              "      <td>0.806900</td>\n",
              "      <td>0.928236</td>\n",
              "      <td>0.700392</td>\n",
              "      <td>0.700058</td>\n",
              "      <td>0.700392</td>\n",
              "      <td>0.698299</td>\n",
              "    </tr>\n",
              "    <tr>\n",
              "      <td>7</td>\n",
              "      <td>0.819900</td>\n",
              "      <td>0.898415</td>\n",
              "      <td>0.709530</td>\n",
              "      <td>0.711381</td>\n",
              "      <td>0.709530</td>\n",
              "      <td>0.709603</td>\n",
              "    </tr>\n",
              "    <tr>\n",
              "      <td>8</td>\n",
              "      <td>0.624500</td>\n",
              "      <td>0.913059</td>\n",
              "      <td>0.705614</td>\n",
              "      <td>0.709407</td>\n",
              "      <td>0.705614</td>\n",
              "      <td>0.705723</td>\n",
              "    </tr>\n",
              "    <tr>\n",
              "      <td>9</td>\n",
              "      <td>0.786200</td>\n",
              "      <td>0.905372</td>\n",
              "      <td>0.710183</td>\n",
              "      <td>0.711392</td>\n",
              "      <td>0.710183</td>\n",
              "      <td>0.710045</td>\n",
              "    </tr>\n",
              "    <tr>\n",
              "      <td>10</td>\n",
              "      <td>0.753600</td>\n",
              "      <td>0.905910</td>\n",
              "      <td>0.710183</td>\n",
              "      <td>0.711856</td>\n",
              "      <td>0.710183</td>\n",
              "      <td>0.710221</td>\n",
              "    </tr>\n",
              "  </tbody>\n",
              "</table><p>"
            ],
            "text/plain": [
              "<IPython.core.display.HTML object>"
            ]
          },
          "metadata": {},
          "output_type": "display_data"
        },
        {
          "name": "stdout",
          "output_type": "stream",
          "text": [
            "✅ Training completed! 🕒 Training time: 4.28 minutes\n"
          ]
        },
        {
          "data": {
            "text/html": [
              "\n",
              "    <div>\n",
              "      \n",
              "      <progress value='96' max='96' style='width:300px; height:20px; vertical-align: middle;'></progress>\n",
              "      [96/96 00:01]\n",
              "    </div>\n",
              "    "
            ],
            "text/plain": [
              "<IPython.core.display.HTML object>"
            ]
          },
          "metadata": {},
          "output_type": "display_data"
        },
        {
          "name": "stdout",
          "output_type": "stream",
          "text": [
            "📊 DistilRoBERTa Evaluation Results:\n",
            "{'eval_loss': 0.8984150290489197, 'eval_accuracy': 0.7095300261096605, 'eval_precision': 0.711381142454905, 'eval_recall': 0.7095300261096605, 'eval_f1': 0.7096031638875056, 'eval_runtime': 1.371, 'eval_samples_per_second': 1117.44, 'eval_steps_per_second': 70.022, 'epoch': 10.0}\n"
          ]
        }
      ],
      "source": [
        "import torch\n",
        "import numpy as np\n",
        "import pandas as pd\n",
        "import time\n",
        "from datasets import Dataset\n",
        "from transformers import AutoTokenizer, AutoModelForSequenceClassification, Trainer, TrainingArguments, EarlyStoppingCallback\n",
        "from sklearn.metrics import accuracy_score, precision_recall_fscore_support\n",
        "\n",
        "\n",
        "train_df = pd.read_csv(\"ISEAR_train.csv\")\n",
        "test_df = pd.read_csv(\"ISEAR_test.csv\")\n",
        "\n",
        "\n",
        "unique_emotions = sorted(train_df[\"emotion\"].unique())\n",
        "emotion2label = {emotion: idx for idx, emotion in enumerate(unique_emotions)}\n",
        "label2emotion = {idx: emotion for emotion, idx in emotion2label.items()}\n",
        "\n",
        "train_df[\"label\"] = train_df[\"emotion\"].map(emotion2label)\n",
        "test_df[\"label\"] = test_df[\"emotion\"].map(emotion2label)\n",
        "\n",
        "train_dataset = Dataset.from_pandas(train_df[[\"text\", \"label\"]])\n",
        "test_dataset = Dataset.from_pandas(test_df[[\"text\", \"label\"]])\n",
        "\n",
        "\n",
        "model_name = \"distilroberta-base\"\n",
        "tokenizer = AutoTokenizer.from_pretrained(model_name)\n",
        "\n",
        "def tokenize_function(examples):\n",
        "    return tokenizer(examples[\"text\"], padding=\"max_length\", truncation=True, max_length=128)\n",
        "\n",
        "train_dataset = train_dataset.map(tokenize_function, batched=True)\n",
        "test_dataset = test_dataset.map(tokenize_function, batched=True)\n",
        "\n",
        "train_dataset.set_format(type=\"torch\", columns=[\"input_ids\", \"attention_mask\", \"label\"])\n",
        "test_dataset.set_format(type=\"torch\", columns=[\"input_ids\", \"attention_mask\", \"label\"])\n",
        "\n",
        "\n",
        "num_labels = len(emotion2label)\n",
        "model = AutoModelForSequenceClassification.from_pretrained(\n",
        "    model_name,\n",
        "    num_labels=num_labels,\n",
        "    hidden_dropout_prob=0.3,  # Dropout pre skryté vrstvy\n",
        "    attention_probs_dropout_prob=0.3  # Dropout pre pozornosť\n",
        ")\n",
        "\n",
        "\n",
        "training_args = TrainingArguments(\n",
        "    output_dir=\"./distilroberta_finetuned\",\n",
        "    eval_strategy=\"epoch\",\n",
        "    save_strategy=\"epoch\",\n",
        "    learning_rate=2e-5,\n",
        "    per_device_train_batch_size=16,\n",
        "    per_device_eval_batch_size=16,\n",
        "    num_train_epochs=10,\n",
        "    weight_decay=0.1,  # Zvýšenie weight decay pre silnejšiu regularizáciu\n",
        "    logging_dir=\"./logs\",\n",
        "    logging_steps=10,\n",
        "    load_best_model_at_end=True,  # Načítanie najlepšieho modelu\n",
        "    metric_for_best_model=\"eval_loss\",  # Metrika pre early stopping\n",
        "    greater_is_better=False,  # Nižšia validačná strata je lepšia\n",
        ")\n",
        "\n",
        "\n",
        "def compute_metrics(eval_pred):\n",
        "    logits, labels = eval_pred\n",
        "    predictions = np.argmax(logits, axis=-1)\n",
        "    accuracy = accuracy_score(labels, predictions)\n",
        "    precision, recall, f1, _ = precision_recall_fscore_support(labels, predictions, average=\"weighted\")\n",
        "    return {\"accuracy\": accuracy, \"precision\": precision, \"recall\": recall, \"f1\": f1}\n",
        "\n",
        "\n",
        "trainer = Trainer(\n",
        "    model=model,\n",
        "    args=training_args,\n",
        "    train_dataset=train_dataset,\n",
        "    eval_dataset=test_dataset,\n",
        "    compute_metrics=compute_metrics,\n",
        "    callbacks=[EarlyStoppingCallback(early_stopping_patience=3)]  # Pridanie early stopping\n",
        ")\n",
        "\n",
        "\n",
        "start_time = time.time()\n",
        "\n",
        "trainer.train()\n",
        "\n",
        "end_time = time.time()\n",
        "training_time = end_time - start_time\n",
        "\n",
        "print(f\" Training completed!  Training time: {training_time / 60:.2f} minutes\")\n",
        "\n",
        "\n",
        "model.save_pretrained(\"./distilroberta_finetuned\")\n",
        "tokenizer.save_pretrained(\"./distilroberta_finetuned\")\n",
        "\n",
        "\n",
        "results = trainer.evaluate()\n",
        "print(\" DistilRoBERTa Evaluation Results:\")\n",
        "print(results)"
      ]
    },
    {
      "cell_type": "code",
      "execution_count": null,
      "id": "88c8d9db-bead-4469-bc0c-61892fdf8b51",
      "metadata": {
        "id": "88c8d9db-bead-4469-bc0c-61892fdf8b51"
      },
      "outputs": [],
      "source": []
    },
    {
      "cell_type": "code",
      "execution_count": null,
      "id": "b40f6a26-a287-4282-9168-a519deec5a8b",
      "metadata": {
        "id": "b40f6a26-a287-4282-9168-a519deec5a8b"
      },
      "outputs": [],
      "source": []
    }
  ],
  "metadata": {
    "kernelspec": {
      "display_name": "Python [conda env:base] *",
      "language": "python",
      "name": "conda-base-py"
    },
    "language_info": {
      "codemirror_mode": {
        "name": "ipython",
        "version": 3
      },
      "file_extension": ".py",
      "mimetype": "text/x-python",
      "name": "python",
      "nbconvert_exporter": "python",
      "pygments_lexer": "ipython3",
      "version": "3.11.6"
    },
    "colab": {
      "provenance": []
    }
  },
  "nbformat": 4,
  "nbformat_minor": 5
}