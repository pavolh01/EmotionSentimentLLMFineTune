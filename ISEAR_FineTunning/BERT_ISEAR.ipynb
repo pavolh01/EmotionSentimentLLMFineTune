{
  "cells": [
    {
      "cell_type": "code",
      "execution_count": null,
      "id": "ffd40792-0895-499a-b5de-97a762711f31",
      "metadata": {
        "id": "ffd40792-0895-499a-b5de-97a762711f31",
        "outputId": "fb603a4f-5669-4b46-dd02-26a39e85602a"
      },
      "outputs": [
        {
          "name": "stderr",
          "output_type": "stream",
          "text": [
            "Some weights of BertForSequenceClassification were not initialized from the model checkpoint at bert-base-uncased and are newly initialized: ['classifier.bias', 'classifier.weight']\n",
            "You should probably TRAIN this model on a down-stream task to be able to use it for predictions and inference.\n",
            "/home/jovyan/.local/lib/python3.11/site-packages/transformers/training_args.py:1594: FutureWarning: `evaluation_strategy` is deprecated and will be removed in version 4.46 of 🤗 Transformers. Use `eval_strategy` instead\n",
            "  warnings.warn(\n"
          ]
        },
        {
          "name": "stdout",
          "output_type": "stream",
          "text": [
            "Training BERT model...\n"
          ]
        },
        {
          "data": {
            "text/html": [
              "\n",
              "    <div>\n",
              "      \n",
              "      <progress value='3064' max='3830' style='width:300px; height:20px; vertical-align: middle;'></progress>\n",
              "      [3064/3830 05:53 < 01:28, 8.67 it/s, Epoch 8/10]\n",
              "    </div>\n",
              "    <table border=\"1\" class=\"dataframe\">\n",
              "  <thead>\n",
              " <tr style=\"text-align: left;\">\n",
              "      <th>Epoch</th>\n",
              "      <th>Training Loss</th>\n",
              "      <th>Validation Loss</th>\n",
              "      <th>Accuracy</th>\n",
              "      <th>Precision</th>\n",
              "      <th>Recall</th>\n",
              "      <th>F1</th>\n",
              "    </tr>\n",
              "  </thead>\n",
              "  <tbody>\n",
              "    <tr>\n",
              "      <td>1</td>\n",
              "      <td>No log</td>\n",
              "      <td>1.053887</td>\n",
              "      <td>0.644909</td>\n",
              "      <td>0.661051</td>\n",
              "      <td>0.644909</td>\n",
              "      <td>0.642368</td>\n",
              "    </tr>\n",
              "    <tr>\n",
              "      <td>2</td>\n",
              "      <td>1.480700</td>\n",
              "      <td>0.905718</td>\n",
              "      <td>0.686031</td>\n",
              "      <td>0.690914</td>\n",
              "      <td>0.686031</td>\n",
              "      <td>0.680204</td>\n",
              "    </tr>\n",
              "    <tr>\n",
              "      <td>3</td>\n",
              "      <td>0.935100</td>\n",
              "      <td>0.868984</td>\n",
              "      <td>0.704961</td>\n",
              "      <td>0.712546</td>\n",
              "      <td>0.704961</td>\n",
              "      <td>0.705157</td>\n",
              "    </tr>\n",
              "    <tr>\n",
              "      <td>4</td>\n",
              "      <td>0.788700</td>\n",
              "      <td>0.854059</td>\n",
              "      <td>0.716710</td>\n",
              "      <td>0.717210</td>\n",
              "      <td>0.716710</td>\n",
              "      <td>0.715636</td>\n",
              "    </tr>\n",
              "    <tr>\n",
              "      <td>5</td>\n",
              "      <td>0.788700</td>\n",
              "      <td>0.853042</td>\n",
              "      <td>0.727807</td>\n",
              "      <td>0.734472</td>\n",
              "      <td>0.727807</td>\n",
              "      <td>0.730089</td>\n",
              "    </tr>\n",
              "    <tr>\n",
              "      <td>6</td>\n",
              "      <td>0.665900</td>\n",
              "      <td>0.893615</td>\n",
              "      <td>0.729112</td>\n",
              "      <td>0.729014</td>\n",
              "      <td>0.729112</td>\n",
              "      <td>0.728635</td>\n",
              "    </tr>\n",
              "    <tr>\n",
              "      <td>7</td>\n",
              "      <td>0.577400</td>\n",
              "      <td>0.891355</td>\n",
              "      <td>0.730418</td>\n",
              "      <td>0.735445</td>\n",
              "      <td>0.730418</td>\n",
              "      <td>0.731262</td>\n",
              "    </tr>\n",
              "    <tr>\n",
              "      <td>8</td>\n",
              "      <td>0.509500</td>\n",
              "      <td>0.920434</td>\n",
              "      <td>0.724543</td>\n",
              "      <td>0.725717</td>\n",
              "      <td>0.724543</td>\n",
              "      <td>0.724610</td>\n",
              "    </tr>\n",
              "  </tbody>\n",
              "</table><p>"
            ],
            "text/plain": [
              "<IPython.core.display.HTML object>"
            ]
          },
          "metadata": {},
          "output_type": "display_data"
        },
        {
          "name": "stdout",
          "output_type": "stream",
          "text": [
            "BERT training complete. Training took 354.23 seconds.\n",
            "Evaluating BERT model...\n"
          ]
        },
        {
          "data": {
            "text/html": [
              "\n",
              "    <div>\n",
              "      \n",
              "      <progress value='96' max='96' style='width:300px; height:20px; vertical-align: middle;'></progress>\n",
              "      [96/96 00:02]\n",
              "    </div>\n",
              "    "
            ],
            "text/plain": [
              "<IPython.core.display.HTML object>"
            ]
          },
          "metadata": {},
          "output_type": "display_data"
        },
        {
          "name": "stdout",
          "output_type": "stream",
          "text": [
            "📊 Výsledky vyhodnotenia BERT:\n",
            "{'eval_loss': 0.8530417084693909, 'eval_accuracy': 0.7278067885117493, 'eval_precision': 0.7344717024562537, 'eval_recall': 0.7278067885117493, 'eval_f1': 0.7300892522799318, 'eval_runtime': 2.6965, 'eval_samples_per_second': 568.139, 'eval_steps_per_second': 35.601, 'epoch': 8.0}\n"
          ]
        }
      ],
      "source": [
        "import time\n",
        "import torch\n",
        "import numpy as np\n",
        "import pandas as pd\n",
        "from datasets import load_dataset\n",
        "from transformers import (\n",
        "    AutoTokenizer, AutoModelForSequenceClassification, Trainer, TrainingArguments, EarlyStoppingCallback\n",
        ")\n",
        "from sklearn.metrics import accuracy_score, precision_recall_fscore_support\n",
        "\n",
        "\n",
        "dataset = load_dataset(\"csv\", data_files={\"train\": \"ISEAR_train.csv\", \"test\": \"ISEAR_test.csv\"})\n",
        "\n",
        "\n",
        "unique_emotions = sorted(set(dataset[\"train\"][\"emotion\"]))\n",
        "emotion2label = {emotion: idx for idx, emotion in enumerate(unique_emotions)}\n",
        "num_labels = len(emotion2label)\n",
        "\n",
        "def map_emotion_to_label(example):\n",
        "    example[\"label\"] = emotion2label[example[\"emotion\"]]\n",
        "    return example\n",
        "\n",
        "dataset = dataset.map(map_emotion_to_label)\n",
        "\n",
        "\n",
        "bert_model_name = \"bert-base-uncased\"\n",
        "tokenizer_bert = AutoTokenizer.from_pretrained(bert_model_name)\n",
        "bert_model = AutoModelForSequenceClassification.from_pretrained(\n",
        "    bert_model_name,\n",
        "    num_labels=num_labels,\n",
        "    hidden_dropout_prob=0.3,  #  dropout pre regularizáciu\n",
        "    attention_probs_dropout_prob=0.3\n",
        ")\n",
        "\n",
        "\n",
        "def tokenize_bert(examples):\n",
        "    return tokenizer_bert(examples[\"text\"], truncation=True, padding=\"max_length\", max_length=128)\n",
        "\n",
        "dataset = dataset.map(tokenize_bert, batched=True)\n",
        "dataset.set_format(type=\"torch\", columns=[\"input_ids\", \"attention_mask\", \"label\"])\n",
        "\n",
        "\n",
        "def compute_metrics(eval_pred):\n",
        "    logits, labels = eval_pred\n",
        "    predictions = np.argmax(logits, axis=-1)\n",
        "    accuracy = accuracy_score(labels, predictions)\n",
        "    precision, recall, f1, _ = precision_recall_fscore_support(labels, predictions, average=\"weighted\")\n",
        "    return {\"accuracy\": accuracy, \"precision\": precision, \"recall\": recall, \"f1\": f1}\n",
        "\n",
        "\n",
        "bert_training_args = TrainingArguments(\n",
        "    output_dir=\"./bert_finetuned\",\n",
        "    evaluation_strategy=\"epoch\",\n",
        "    save_strategy=\"epoch\",\n",
        "    learning_rate=2e-5,\n",
        "    per_device_train_batch_size=16,\n",
        "    per_device_eval_batch_size=16,\n",
        "    num_train_epochs=10,  # Ponechanie 10 epoch\n",
        "    weight_decay=0.1,  # Zvýšenie weight decay pre silnejšiu regularizáciu\n",
        "    load_best_model_at_end=True,  # Načítanie najlepšieho modelu na konci\n",
        "    metric_for_best_model=\"eval_loss\",  # Metrika pre výber najlepšieho modelu\n",
        "    greater_is_better=False,  # Nižšia validačná strata je lepšia\n",
        ")\n",
        "\n",
        "\n",
        "bert_trainer = Trainer(\n",
        "    model=bert_model,\n",
        "    args=bert_training_args,\n",
        "    train_dataset=dataset[\"train\"],\n",
        "    eval_dataset=dataset[\"test\"],\n",
        "    compute_metrics=compute_metrics,\n",
        "    callbacks=[EarlyStoppingCallback(early_stopping_patience=3)]  # Pridanie early stopping\n",
        ")\n",
        "\n",
        "\n",
        "\n",
        "start_time = time.time()\n",
        "\n",
        "bert_trainer.train()\n",
        "\n",
        "end_time = time.time()\n",
        "training_time = end_time - start_time\n",
        "\n",
        "print(f\"BERT training complete. Training took {training_time:.2f} seconds.\")\n",
        "\n",
        "\n",
        "print(\"Evaluating BERT model...\")\n",
        "bert_results = bert_trainer.evaluate()\n",
        "print(\" Výsledky vyhodnotenia BERT:\")\n",
        "print(bert_results)"
      ]
    },
    {
      "cell_type": "code",
      "execution_count": null,
      "id": "8158eda1-1aee-4dc2-9517-135e7a710e19",
      "metadata": {
        "id": "8158eda1-1aee-4dc2-9517-135e7a710e19"
      },
      "outputs": [],
      "source": []
    }
  ],
  "metadata": {
    "kernelspec": {
      "display_name": "Python [conda env:base] *",
      "language": "python",
      "name": "conda-base-py"
    },
    "language_info": {
      "codemirror_mode": {
        "name": "ipython",
        "version": 3
      },
      "file_extension": ".py",
      "mimetype": "text/x-python",
      "name": "python",
      "nbconvert_exporter": "python",
      "pygments_lexer": "ipython3",
      "version": "3.11.6"
    },
    "colab": {
      "provenance": []
    }
  },
  "nbformat": 4,
  "nbformat_minor": 5
}