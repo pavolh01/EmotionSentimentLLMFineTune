{
  "cells": [
    {
      "cell_type": "code",
      "execution_count": null,
      "id": "450a31b9-fc93-41a9-9fbb-dd7a12a22679",
      "metadata": {
        "colab": {
          "referenced_widgets": [
            "c6afee446205456fa53ff8df62c464cb"
          ]
        },
        "id": "450a31b9-fc93-41a9-9fbb-dd7a12a22679",
        "outputId": "72a97161-8487-4581-cb0b-1205ff98c185"
      },
      "outputs": [
        {
          "name": "stdout",
          "output_type": "stream",
          "text": [
            "Emotion to label mapping: {'anger': 0, 'disgust': 1, 'fear': 2, 'guilt': 3, 'joy': 4, 'sadness': 5, 'shame': 6}\n"
          ]
        },
        {
          "name": "stderr",
          "output_type": "stream",
          "text": [
            "Some weights of RobertaForSequenceClassification were not initialized from the model checkpoint at roberta-large and are newly initialized: ['classifier.dense.bias', 'classifier.dense.weight', 'classifier.out_proj.bias', 'classifier.out_proj.weight']\n",
            "You should probably TRAIN this model on a down-stream task to be able to use it for predictions and inference.\n"
          ]
        },
        {
          "data": {
            "application/vnd.jupyter.widget-view+json": {
              "model_id": "c6afee446205456fa53ff8df62c464cb",
              "version_major": 2,
              "version_minor": 0
            },
            "text/plain": [
              "Map:   0%|          | 0/1532 [00:00<?, ? examples/s]"
            ]
          },
          "metadata": {},
          "output_type": "display_data"
        },
        {
          "name": "stderr",
          "output_type": "stream",
          "text": [
            "/home/jovyan/.local/lib/python3.11/site-packages/transformers/training_args.py:1594: FutureWarning: `evaluation_strategy` is deprecated and will be removed in version 4.46 of 🤗 Transformers. Use `eval_strategy` instead\n",
            "  warnings.warn(\n"
          ]
        },
        {
          "name": "stdout",
          "output_type": "stream",
          "text": [
            "Training RoBERTa model...\n"
          ]
        },
        {
          "data": {
            "text/html": [
              "\n",
              "    <div>\n",
              "      \n",
              "      <progress value='1920' max='1920' style='width:300px; height:20px; vertical-align: middle;'></progress>\n",
              "      [1920/1920 20:08, Epoch 10/10]\n",
              "    </div>\n",
              "    <table border=\"1\" class=\"dataframe\">\n",
              "  <thead>\n",
              " <tr style=\"text-align: left;\">\n",
              "      <th>Epoch</th>\n",
              "      <th>Training Loss</th>\n",
              "      <th>Validation Loss</th>\n",
              "      <th>Accuracy</th>\n",
              "      <th>Precision</th>\n",
              "      <th>Recall</th>\n",
              "      <th>F1</th>\n",
              "    </tr>\n",
              "  </thead>\n",
              "  <tbody>\n",
              "    <tr>\n",
              "      <td>1</td>\n",
              "      <td>1.632900</td>\n",
              "      <td>0.880121</td>\n",
              "      <td>0.701044</td>\n",
              "      <td>0.716986</td>\n",
              "      <td>0.701044</td>\n",
              "      <td>0.697872</td>\n",
              "    </tr>\n",
              "    <tr>\n",
              "      <td>2</td>\n",
              "      <td>0.729600</td>\n",
              "      <td>0.723948</td>\n",
              "      <td>0.744125</td>\n",
              "      <td>0.755981</td>\n",
              "      <td>0.744125</td>\n",
              "      <td>0.743545</td>\n",
              "    </tr>\n",
              "    <tr>\n",
              "      <td>3</td>\n",
              "      <td>0.625100</td>\n",
              "      <td>0.712245</td>\n",
              "      <td>0.754569</td>\n",
              "      <td>0.766644</td>\n",
              "      <td>0.754569</td>\n",
              "      <td>0.755874</td>\n",
              "    </tr>\n",
              "    <tr>\n",
              "      <td>4</td>\n",
              "      <td>0.456400</td>\n",
              "      <td>0.724236</td>\n",
              "      <td>0.757180</td>\n",
              "      <td>0.758859</td>\n",
              "      <td>0.757180</td>\n",
              "      <td>0.756256</td>\n",
              "    </tr>\n",
              "    <tr>\n",
              "      <td>5</td>\n",
              "      <td>0.400900</td>\n",
              "      <td>0.754056</td>\n",
              "      <td>0.753264</td>\n",
              "      <td>0.756150</td>\n",
              "      <td>0.753264</td>\n",
              "      <td>0.753857</td>\n",
              "    </tr>\n",
              "    <tr>\n",
              "      <td>6</td>\n",
              "      <td>0.302400</td>\n",
              "      <td>0.808387</td>\n",
              "      <td>0.757180</td>\n",
              "      <td>0.757457</td>\n",
              "      <td>0.757180</td>\n",
              "      <td>0.756857</td>\n",
              "    </tr>\n",
              "    <tr>\n",
              "      <td>7</td>\n",
              "      <td>0.203100</td>\n",
              "      <td>0.846139</td>\n",
              "      <td>0.761097</td>\n",
              "      <td>0.766860</td>\n",
              "      <td>0.761097</td>\n",
              "      <td>0.762723</td>\n",
              "    </tr>\n",
              "    <tr>\n",
              "      <td>8</td>\n",
              "      <td>0.208000</td>\n",
              "      <td>0.913444</td>\n",
              "      <td>0.754569</td>\n",
              "      <td>0.757724</td>\n",
              "      <td>0.754569</td>\n",
              "      <td>0.755276</td>\n",
              "    </tr>\n",
              "    <tr>\n",
              "      <td>9</td>\n",
              "      <td>0.156000</td>\n",
              "      <td>0.948596</td>\n",
              "      <td>0.763055</td>\n",
              "      <td>0.764342</td>\n",
              "      <td>0.763055</td>\n",
              "      <td>0.763259</td>\n",
              "    </tr>\n",
              "    <tr>\n",
              "      <td>10</td>\n",
              "      <td>0.152600</td>\n",
              "      <td>0.955723</td>\n",
              "      <td>0.761097</td>\n",
              "      <td>0.763341</td>\n",
              "      <td>0.761097</td>\n",
              "      <td>0.761909</td>\n",
              "    </tr>\n",
              "  </tbody>\n",
              "</table><p>"
            ],
            "text/plain": [
              "<IPython.core.display.HTML object>"
            ]
          },
          "metadata": {},
          "output_type": "display_data"
        },
        {
          "name": "stdout",
          "output_type": "stream",
          "text": [
            "🕒 Training time: 20.16 minutes\n",
            "Evaluating RoBERTa model...\n"
          ]
        },
        {
          "data": {
            "text/html": [
              "\n",
              "    <div>\n",
              "      \n",
              "      <progress value='48' max='48' style='width:300px; height:20px; vertical-align: middle;'></progress>\n",
              "      [48/48 00:07]\n",
              "    </div>\n",
              "    "
            ],
            "text/plain": [
              "<IPython.core.display.HTML object>"
            ]
          },
          "metadata": {},
          "output_type": "display_data"
        },
        {
          "name": "stdout",
          "output_type": "stream",
          "text": [
            "📊 RoBERTa evaluation results:\n",
            "{'eval_loss': 0.9485962986946106, 'eval_accuracy': 0.7630548302872062, 'eval_precision': 0.7643416189618829, 'eval_recall': 0.7630548302872062, 'eval_f1': 0.7632594307441604, 'eval_runtime': 7.9485, 'eval_samples_per_second': 192.74, 'eval_steps_per_second': 6.039, 'epoch': 10.0}\n"
          ]
        }
      ],
      "source": [
        "import torch\n",
        "import numpy as np\n",
        "import pandas as pd\n",
        "import time\n",
        "from datasets import load_dataset\n",
        "from transformers import (\n",
        "    AutoTokenizer,\n",
        "    AutoModelForSequenceClassification,\n",
        "    Trainer,\n",
        "    TrainingArguments\n",
        ")\n",
        "import torch.nn.functional as F\n",
        "from sklearn.metrics import accuracy_score, precision_recall_fscore_support\n",
        "\n",
        "dataset = load_dataset(\"csv\", data_files={\"train\": \"ISEAR_train.csv\", \"test\": \"ISEAR_test.csv\"})\n",
        "\n",
        "\n",
        "unique_emotions = sorted(set(dataset[\"train\"][\"emotion\"]))\n",
        "emotion2label = {emotion: idx for idx, emotion in enumerate(unique_emotions)}\n",
        "num_labels = len(emotion2label)\n",
        "print(\"Emotion to label mapping:\", emotion2label)\n",
        "\n",
        "def map_emotion_to_label(example):\n",
        "    example[\"label\"] = emotion2label[example[\"emotion\"]]\n",
        "    return example\n",
        "\n",
        "dataset = dataset.map(map_emotion_to_label)\n",
        "\n",
        "\n",
        "roberta_model_name = \"roberta-large\"\n",
        "tokenizer_roberta = AutoTokenizer.from_pretrained(roberta_model_name)\n",
        "roberta_model = AutoModelForSequenceClassification.from_pretrained(roberta_model_name, num_labels=num_labels)\n",
        "\n",
        "def tokenize_roberta(examples):\n",
        "    return tokenizer_roberta(examples[\"text\"], truncation=True, padding=\"max_length\", max_length=128)\n",
        "\n",
        "dataset = dataset.map(tokenize_roberta, batched=True)\n",
        "dataset.set_format(type=\"torch\", columns=[\"input_ids\", \"attention_mask\", \"label\"])\n",
        "\n",
        "\n",
        "def compute_metrics(eval_pred):\n",
        "    logits, labels = eval_pred\n",
        "    predictions = np.argmax(logits, axis=-1)\n",
        "    accuracy = accuracy_score(labels, predictions)\n",
        "    precision, recall, f1, _ = precision_recall_fscore_support(labels, predictions, average=\"weighted\")\n",
        "    return {\"accuracy\": accuracy, \"precision\": precision, \"recall\": recall, \"f1\": f1}\n",
        "\n",
        "\n",
        "roberta_training_args = TrainingArguments(\n",
        "    output_dir=\"./roberta_finetuned\",\n",
        "    evaluation_strategy=\"epoch\",\n",
        "    save_strategy=\"epoch\",\n",
        "    save_total_limit=2,  # Keep  best two checkpoints\n",
        "    load_best_model_at_end=True,  # Load the best checkpoint at the end\n",
        "    learning_rate=1e-5,\n",
        "    per_device_train_batch_size=32,  # Increase batch size\n",
        "    per_device_eval_batch_size=32,\n",
        "    num_train_epochs=10,\n",
        "    weight_decay=0.01,\n",
        "    logging_dir=\"./logs\",\n",
        "    logging_steps=50,\n",
        "    metric_for_best_model=\"f1\",\n",
        "    greater_is_better=True,\n",
        "    save_on_each_node=False\n",
        ")\n",
        "\n",
        "roberta_trainer = Trainer(\n",
        "    model=roberta_model,\n",
        "    args=roberta_training_args,\n",
        "    train_dataset=dataset[\"train\"],\n",
        "    eval_dataset=dataset[\"test\"],\n",
        "    compute_metrics=compute_metrics,\n",
        ")\n",
        "\n",
        "start_time = time.time()\n",
        "\n",
        "roberta_trainer.train()\n",
        "\n",
        "end_time = time.time()\n",
        "training_time = end_time - start_time\n",
        "print(f\" Training time: {training_time / 60:.2f} minutes\")\n",
        "\n",
        "\n",
        "print(\"Evaluating RoBERTa model...\")\n",
        "roberta_results = roberta_trainer.evaluate()\n",
        "print(\" RoBERTa evaluation results:\")\n",
        "print(roberta_results)\n"
      ]
    },
    {
      "cell_type": "code",
      "execution_count": null,
      "id": "0944a60c-3348-4b3c-81e1-f0df1d9a9dee",
      "metadata": {
        "id": "0944a60c-3348-4b3c-81e1-f0df1d9a9dee"
      },
      "outputs": [],
      "source": []
    }
  ],
  "metadata": {
    "kernelspec": {
      "display_name": "Python [conda env:base] *",
      "language": "python",
      "name": "conda-base-py"
    },
    "language_info": {
      "codemirror_mode": {
        "name": "ipython",
        "version": 3
      },
      "file_extension": ".py",
      "mimetype": "text/x-python",
      "name": "python",
      "nbconvert_exporter": "python",
      "pygments_lexer": "ipython3",
      "version": "3.11.6"
    },
    "colab": {
      "provenance": []
    }
  },
  "nbformat": 4,
  "nbformat_minor": 5
}