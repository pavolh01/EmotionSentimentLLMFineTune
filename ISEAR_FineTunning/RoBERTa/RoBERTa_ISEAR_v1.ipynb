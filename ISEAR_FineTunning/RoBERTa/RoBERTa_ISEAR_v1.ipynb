{
  "cells": [
    {
      "cell_type": "code",
      "execution_count": null,
      "id": "5f61819e-8676-4a87-857c-8bb0cccc88f9",
      "metadata": {
        "id": "5f61819e-8676-4a87-857c-8bb0cccc88f9",
        "outputId": "7e9c9c2f-1798-41f4-ae44-bca383ccd69c"
      },
      "outputs": [
        {
          "name": "stdout",
          "output_type": "stream",
          "text": [
            "Emotion to label mapping: {'anger': 0, 'disgust': 1, 'fear': 2, 'guilt': 3, 'joy': 4, 'sadness': 5, 'shame': 6}\n"
          ]
        },
        {
          "name": "stderr",
          "output_type": "stream",
          "text": [
            "Some weights of RobertaForSequenceClassification were not initialized from the model checkpoint at roberta-base and are newly initialized: ['classifier.dense.bias', 'classifier.dense.weight', 'classifier.out_proj.bias', 'classifier.out_proj.weight']\n",
            "You should probably TRAIN this model on a down-stream task to be able to use it for predictions and inference.\n",
            "/home/jovyan/.local/lib/python3.11/site-packages/transformers/training_args.py:1594: FutureWarning: `evaluation_strategy` is deprecated and will be removed in version 4.46 of 🤗 Transformers. Use `eval_strategy` instead\n",
            "  warnings.warn(\n"
          ]
        },
        {
          "name": "stdout",
          "output_type": "stream",
          "text": [
            "Training RoBERTa model...\n"
          ]
        },
        {
          "data": {
            "text/html": [
              "\n",
              "    <div>\n",
              "      \n",
              "      <progress value='1920' max='1920' style='width:300px; height:20px; vertical-align: middle;'></progress>\n",
              "      [1920/1920 06:36, Epoch 10/10]\n",
              "    </div>\n",
              "    <table border=\"1\" class=\"dataframe\">\n",
              "  <thead>\n",
              " <tr style=\"text-align: left;\">\n",
              "      <th>Epoch</th>\n",
              "      <th>Training Loss</th>\n",
              "      <th>Validation Loss</th>\n",
              "      <th>Accuracy</th>\n",
              "      <th>Precision</th>\n",
              "      <th>Recall</th>\n",
              "      <th>F1</th>\n",
              "    </tr>\n",
              "  </thead>\n",
              "  <tbody>\n",
              "    <tr>\n",
              "      <td>1</td>\n",
              "      <td>1.073800</td>\n",
              "      <td>0.883178</td>\n",
              "      <td>0.697128</td>\n",
              "      <td>0.712349</td>\n",
              "      <td>0.697128</td>\n",
              "      <td>0.693630</td>\n",
              "    </tr>\n",
              "    <tr>\n",
              "      <td>2</td>\n",
              "      <td>0.755700</td>\n",
              "      <td>0.816888</td>\n",
              "      <td>0.719974</td>\n",
              "      <td>0.736968</td>\n",
              "      <td>0.719974</td>\n",
              "      <td>0.719255</td>\n",
              "    </tr>\n",
              "    <tr>\n",
              "      <td>3</td>\n",
              "      <td>0.672700</td>\n",
              "      <td>0.803446</td>\n",
              "      <td>0.729112</td>\n",
              "      <td>0.739535</td>\n",
              "      <td>0.729112</td>\n",
              "      <td>0.729760</td>\n",
              "    </tr>\n",
              "    <tr>\n",
              "      <td>4</td>\n",
              "      <td>0.484000</td>\n",
              "      <td>0.822884</td>\n",
              "      <td>0.730418</td>\n",
              "      <td>0.736118</td>\n",
              "      <td>0.730418</td>\n",
              "      <td>0.730773</td>\n",
              "    </tr>\n",
              "    <tr>\n",
              "      <td>5</td>\n",
              "      <td>0.397600</td>\n",
              "      <td>0.856304</td>\n",
              "      <td>0.722585</td>\n",
              "      <td>0.730123</td>\n",
              "      <td>0.722585</td>\n",
              "      <td>0.723817</td>\n",
              "    </tr>\n",
              "    <tr>\n",
              "      <td>6</td>\n",
              "      <td>0.301400</td>\n",
              "      <td>0.965104</td>\n",
              "      <td>0.729112</td>\n",
              "      <td>0.739127</td>\n",
              "      <td>0.729112</td>\n",
              "      <td>0.730985</td>\n",
              "    </tr>\n",
              "    <tr>\n",
              "      <td>7</td>\n",
              "      <td>0.209500</td>\n",
              "      <td>0.987333</td>\n",
              "      <td>0.731723</td>\n",
              "      <td>0.737809</td>\n",
              "      <td>0.731723</td>\n",
              "      <td>0.733207</td>\n",
              "    </tr>\n",
              "    <tr>\n",
              "      <td>8</td>\n",
              "      <td>0.197000</td>\n",
              "      <td>1.063798</td>\n",
              "      <td>0.721279</td>\n",
              "      <td>0.729045</td>\n",
              "      <td>0.721279</td>\n",
              "      <td>0.721567</td>\n",
              "    </tr>\n",
              "    <tr>\n",
              "      <td>9</td>\n",
              "      <td>0.153200</td>\n",
              "      <td>1.072784</td>\n",
              "      <td>0.735640</td>\n",
              "      <td>0.738803</td>\n",
              "      <td>0.735640</td>\n",
              "      <td>0.736418</td>\n",
              "    </tr>\n",
              "    <tr>\n",
              "      <td>10</td>\n",
              "      <td>0.137200</td>\n",
              "      <td>1.095693</td>\n",
              "      <td>0.734334</td>\n",
              "      <td>0.739047</td>\n",
              "      <td>0.734334</td>\n",
              "      <td>0.735685</td>\n",
              "    </tr>\n",
              "  </tbody>\n",
              "</table><p>"
            ],
            "text/plain": [
              "<IPython.core.display.HTML object>"
            ]
          },
          "metadata": {},
          "output_type": "display_data"
        },
        {
          "name": "stdout",
          "output_type": "stream",
          "text": [
            "🕒 Training time: 6.62 minutes\n",
            "Evaluating RoBERTa model...\n"
          ]
        },
        {
          "data": {
            "text/html": [
              "\n",
              "    <div>\n",
              "      \n",
              "      <progress value='48' max='48' style='width:300px; height:20px; vertical-align: middle;'></progress>\n",
              "      [48/48 00:02]\n",
              "    </div>\n",
              "    "
            ],
            "text/plain": [
              "<IPython.core.display.HTML object>"
            ]
          },
          "metadata": {},
          "output_type": "display_data"
        },
        {
          "name": "stdout",
          "output_type": "stream",
          "text": [
            "📊 RoBERTa evaluation results:\n",
            "{'eval_loss': 1.0727843046188354, 'eval_accuracy': 0.7356396866840731, 'eval_precision': 0.7388028127641768, 'eval_recall': 0.7356396866840731, 'eval_f1': 0.7364183656257762, 'eval_runtime': 2.4964, 'eval_samples_per_second': 613.689, 'eval_steps_per_second': 19.228, 'epoch': 10.0}\n"
          ]
        }
      ],
      "source": [
        "import torch\n",
        "import numpy as np\n",
        "import pandas as pd\n",
        "import time\n",
        "from datasets import load_dataset\n",
        "from transformers import (\n",
        "    AutoTokenizer,\n",
        "    AutoModelForSequenceClassification,\n",
        "    Trainer,\n",
        "    TrainingArguments\n",
        ")\n",
        "import torch.nn.functional as F\n",
        "from sklearn.metrics import accuracy_score, precision_recall_fscore_support\n",
        "\n",
        "\n",
        "dataset = load_dataset(\"csv\", data_files={\"train\": \"ISEAR_train.csv\", \"test\": \"ISEAR_test.csv\"})\n",
        "\n",
        "\n",
        "unique_emotions = sorted(set(dataset[\"train\"][\"emotion\"]))\n",
        "emotion2label = {emotion: idx for idx, emotion in enumerate(unique_emotions)}\n",
        "num_labels = len(emotion2label)\n",
        "print(\"Emotion to label mapping:\", emotion2label)\n",
        "\n",
        "def map_emotion_to_label(example):\n",
        "    example[\"label\"] = emotion2label[example[\"emotion\"]]\n",
        "    return example\n",
        "\n",
        "dataset = dataset.map(map_emotion_to_label)\n",
        "\n",
        "\n",
        "roberta_model_name = \"roberta-base\"\n",
        "tokenizer_roberta = AutoTokenizer.from_pretrained(roberta_model_name)\n",
        "roberta_model = AutoModelForSequenceClassification.from_pretrained(roberta_model_name, num_labels=num_labels)\n",
        "\n",
        "\n",
        "def tokenize_roberta(examples):\n",
        "    return tokenizer_roberta(examples[\"text\"], truncation=True, padding=\"max_length\", max_length=128)\n",
        "\n",
        "dataset = dataset.map(tokenize_roberta, batched=True)\n",
        "dataset.set_format(type=\"torch\", columns=[\"input_ids\", \"attention_mask\", \"label\"])\n",
        "\n",
        "\n",
        "def compute_metrics(eval_pred):\n",
        "    logits, labels = eval_pred\n",
        "    predictions = np.argmax(logits, axis=-1)\n",
        "    accuracy = accuracy_score(labels, predictions)\n",
        "    precision, recall, f1, _ = precision_recall_fscore_support(labels, predictions, average=\"weighted\")\n",
        "    return {\"accuracy\": accuracy, \"precision\": precision, \"recall\": recall, \"f1\": f1}\n",
        "\n",
        "\n",
        "roberta_training_args = TrainingArguments(\n",
        "    output_dir=\"./roberta_finetuned\",\n",
        "    evaluation_strategy=\"epoch\",\n",
        "    save_strategy=\"epoch\",\n",
        "    save_total_limit=2,  #  best two checkpoints\n",
        "    load_best_model_at_end=True,  # Load the best checkpoint at the end\n",
        "    learning_rate=2e-5,\n",
        "    per_device_train_batch_size=32,  # Increased batch size\n",
        "    per_device_eval_batch_size=32,\n",
        "    num_train_epochs=10,  # Train longer, with early stopping\n",
        "    weight_decay=0.01,\n",
        "    logging_dir=\"./logs\",\n",
        "    logging_steps=50,\n",
        "    metric_for_best_model=\"f1\",\n",
        "    greater_is_better=True,\n",
        "    save_on_each_node=False\n",
        ")\n",
        "\n",
        "\n",
        "\n",
        "roberta_trainer = Trainer(\n",
        "    model=roberta_model,\n",
        "    args=roberta_training_args,\n",
        "    train_dataset=dataset[\"train\"],\n",
        "    eval_dataset=dataset[\"test\"],\n",
        "    compute_metrics=compute_metrics,\n",
        ")\n",
        "\n",
        "\n",
        "\n",
        "start_time = time.time()\n",
        "\n",
        "roberta_trainer.train()\n",
        "\n",
        "end_time = time.time()\n",
        "training_time = end_time - start_time\n",
        "print(f\" Training time: {training_time / 60:.2f} minutes\")\n",
        "\n",
        "\n",
        "\n",
        "print(\"Evaluating RoBERTa model...\")\n",
        "roberta_results = roberta_trainer.evaluate()\n",
        "print(\" RoBERTa evaluation results:\")\n",
        "print(roberta_results)\n"
      ]
    },
    {
      "cell_type": "code",
      "execution_count": null,
      "id": "642ac6b6-255b-4923-a010-5217f3c4d973",
      "metadata": {
        "id": "642ac6b6-255b-4923-a010-5217f3c4d973",
        "outputId": "31432f8c-bbd7-4f9d-dcf1-86be4729e926"
      },
      "outputs": [
        {
          "name": "stdout",
          "output_type": "stream",
          "text": [
            "Aktuálne zariadenie: cuda\n",
            "GPU názov: NVIDIA A40\n"
          ]
        }
      ],
      "source": []
    },
    {
      "cell_type": "markdown",
      "id": "02818c7c-d81c-492f-b707-33369582f2e1",
      "metadata": {
        "id": "02818c7c-d81c-492f-b707-33369582f2e1"
      },
      "source": []
    }
  ],
  "metadata": {
    "colab": {
      "provenance": []
    },
    "kernelspec": {
      "display_name": "Python [conda env:base] *",
      "language": "python",
      "name": "conda-base-py"
    },
    "language_info": {
      "codemirror_mode": {
        "name": "ipython",
        "version": 3
      },
      "file_extension": ".py",
      "mimetype": "text/x-python",
      "name": "python",
      "nbconvert_exporter": "python",
      "pygments_lexer": "ipython3",
      "version": "3.11.6"
    }
  },
  "nbformat": 4,
  "nbformat_minor": 5
}