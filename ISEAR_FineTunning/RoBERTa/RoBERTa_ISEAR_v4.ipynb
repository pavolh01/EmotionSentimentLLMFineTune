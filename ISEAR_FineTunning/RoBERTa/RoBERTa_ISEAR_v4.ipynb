{
  "cells": [
    {
      "cell_type": "code",
      "execution_count": null,
      "id": "088edea0-27b0-455f-8492-cc348d8621d8",
      "metadata": {
        "colab": {
          "referenced_widgets": [
            "cb1092ebc9874cc0a5d1e10488df10c8",
            "7d7ac35e76dc4f2bb6d1aa79195085fa"
          ]
        },
        "id": "088edea0-27b0-455f-8492-cc348d8621d8",
        "outputId": "fc5a9373-fe40-40ac-a7b7-cc60a04b4a5f"
      },
      "outputs": [
        {
          "name": "stderr",
          "output_type": "stream",
          "text": [
            "[nltk_data] Downloading package wordnet to /home/jovyan/nltk_data...\n",
            "[nltk_data]   Package wordnet is already up-to-date!\n",
            "[nltk_data] Downloading package averaged_perceptron_tagger_eng to\n",
            "[nltk_data]     /home/jovyan/nltk_data...\n",
            "[nltk_data]   Package averaged_perceptron_tagger_eng is already up-to-\n",
            "[nltk_data]       date!\n"
          ]
        },
        {
          "name": "stdout",
          "output_type": "stream",
          "text": [
            "Emotion to label mapping: {'anger': 0, 'disgust': 1, 'fear': 2, 'guilt': 3, 'joy': 4, 'sadness': 5, 'shame': 6}\n",
            "Original training size: 6124, Augmenting 1837 examples\n"
          ]
        },
        {
          "data": {
            "application/vnd.jupyter.widget-view+json": {
              "model_id": "cb1092ebc9874cc0a5d1e10488df10c8",
              "version_major": 2,
              "version_minor": 0
            },
            "text/plain": [
              "Map:   0%|          | 0/1837 [00:00<?, ? examples/s]"
            ]
          },
          "metadata": {},
          "output_type": "display_data"
        },
        {
          "name": "stderr",
          "output_type": "stream",
          "text": [
            "Some weights of RobertaForSequenceClassification were not initialized from the model checkpoint at roberta-base and are newly initialized: ['classifier.dense.bias', 'classifier.dense.weight', 'classifier.out_proj.bias', 'classifier.out_proj.weight']\n",
            "You should probably TRAIN this model on a down-stream task to be able to use it for predictions and inference.\n"
          ]
        },
        {
          "data": {
            "application/vnd.jupyter.widget-view+json": {
              "model_id": "7d7ac35e76dc4f2bb6d1aa79195085fa",
              "version_major": 2,
              "version_minor": 0
            },
            "text/plain": [
              "Map:   0%|          | 0/7961 [00:00<?, ? examples/s]"
            ]
          },
          "metadata": {},
          "output_type": "display_data"
        },
        {
          "name": "stderr",
          "output_type": "stream",
          "text": [
            "/home/jovyan/.local/lib/python3.11/site-packages/transformers/training_args.py:1594: FutureWarning: `evaluation_strategy` is deprecated and will be removed in version 4.46 of 🤗 Transformers. Use `eval_strategy` instead\n",
            "  warnings.warn(\n"
          ]
        },
        {
          "name": "stdout",
          "output_type": "stream",
          "text": [
            "Training RoBERTa model with 30% Augmented Data and Cosine Scheduler...\n"
          ]
        },
        {
          "data": {
            "text/html": [
              "\n",
              "    <div>\n",
              "      \n",
              "      <progress value='2490' max='2490' style='width:300px; height:20px; vertical-align: middle;'></progress>\n",
              "      [2490/2490 08:17, Epoch 10/10]\n",
              "    </div>\n",
              "    <table border=\"1\" class=\"dataframe\">\n",
              "  <thead>\n",
              " <tr style=\"text-align: left;\">\n",
              "      <th>Epoch</th>\n",
              "      <th>Training Loss</th>\n",
              "      <th>Validation Loss</th>\n",
              "      <th>Accuracy</th>\n",
              "      <th>Precision</th>\n",
              "      <th>Recall</th>\n",
              "      <th>F1</th>\n",
              "    </tr>\n",
              "  </thead>\n",
              "  <tbody>\n",
              "    <tr>\n",
              "      <td>1</td>\n",
              "      <td>1.067400</td>\n",
              "      <td>0.865065</td>\n",
              "      <td>0.710836</td>\n",
              "      <td>0.722839</td>\n",
              "      <td>0.710836</td>\n",
              "      <td>0.711159</td>\n",
              "    </tr>\n",
              "    <tr>\n",
              "      <td>2</td>\n",
              "      <td>0.809200</td>\n",
              "      <td>0.776115</td>\n",
              "      <td>0.740209</td>\n",
              "      <td>0.743700</td>\n",
              "      <td>0.740209</td>\n",
              "      <td>0.740500</td>\n",
              "    </tr>\n",
              "    <tr>\n",
              "      <td>3</td>\n",
              "      <td>0.562300</td>\n",
              "      <td>0.772855</td>\n",
              "      <td>0.746736</td>\n",
              "      <td>0.747586</td>\n",
              "      <td>0.746736</td>\n",
              "      <td>0.746079</td>\n",
              "    </tr>\n",
              "    <tr>\n",
              "      <td>4</td>\n",
              "      <td>0.437000</td>\n",
              "      <td>0.854432</td>\n",
              "      <td>0.741514</td>\n",
              "      <td>0.740540</td>\n",
              "      <td>0.741514</td>\n",
              "      <td>0.740058</td>\n",
              "    </tr>\n",
              "    <tr>\n",
              "      <td>5</td>\n",
              "      <td>0.280000</td>\n",
              "      <td>0.923992</td>\n",
              "      <td>0.742820</td>\n",
              "      <td>0.745149</td>\n",
              "      <td>0.742820</td>\n",
              "      <td>0.742828</td>\n",
              "    </tr>\n",
              "    <tr>\n",
              "      <td>6</td>\n",
              "      <td>0.211100</td>\n",
              "      <td>1.000343</td>\n",
              "      <td>0.744125</td>\n",
              "      <td>0.744837</td>\n",
              "      <td>0.744125</td>\n",
              "      <td>0.743743</td>\n",
              "    </tr>\n",
              "    <tr>\n",
              "      <td>7</td>\n",
              "      <td>0.158100</td>\n",
              "      <td>1.093406</td>\n",
              "      <td>0.740209</td>\n",
              "      <td>0.743121</td>\n",
              "      <td>0.740209</td>\n",
              "      <td>0.741153</td>\n",
              "    </tr>\n",
              "    <tr>\n",
              "      <td>8</td>\n",
              "      <td>0.112000</td>\n",
              "      <td>1.149478</td>\n",
              "      <td>0.741514</td>\n",
              "      <td>0.745836</td>\n",
              "      <td>0.741514</td>\n",
              "      <td>0.742849</td>\n",
              "    </tr>\n",
              "    <tr>\n",
              "      <td>9</td>\n",
              "      <td>0.128700</td>\n",
              "      <td>1.159530</td>\n",
              "      <td>0.744125</td>\n",
              "      <td>0.744727</td>\n",
              "      <td>0.744125</td>\n",
              "      <td>0.744383</td>\n",
              "    </tr>\n",
              "    <tr>\n",
              "      <td>10</td>\n",
              "      <td>0.082100</td>\n",
              "      <td>1.167142</td>\n",
              "      <td>0.744125</td>\n",
              "      <td>0.745861</td>\n",
              "      <td>0.744125</td>\n",
              "      <td>0.744827</td>\n",
              "    </tr>\n",
              "  </tbody>\n",
              "</table><p>"
            ],
            "text/plain": [
              "<IPython.core.display.HTML object>"
            ]
          },
          "metadata": {},
          "output_type": "display_data"
        },
        {
          "name": "stdout",
          "output_type": "stream",
          "text": [
            "🕒 Training time: 8.29 minutes\n",
            "Evaluating RoBERTa model...\n"
          ]
        },
        {
          "data": {
            "text/html": [
              "\n",
              "    <div>\n",
              "      \n",
              "      <progress value='48' max='48' style='width:300px; height:20px; vertical-align: middle;'></progress>\n",
              "      [48/48 00:02]\n",
              "    </div>\n",
              "    "
            ],
            "text/plain": [
              "<IPython.core.display.HTML object>"
            ]
          },
          "metadata": {},
          "output_type": "display_data"
        },
        {
          "name": "stdout",
          "output_type": "stream",
          "text": [
            "📊 RoBERTa evaluation results:\n",
            "{'eval_loss': 0.7728545069694519, 'eval_accuracy': 0.7467362924281984, 'eval_precision': 0.7475860057560603, 'eval_recall': 0.7467362924281984, 'eval_f1': 0.7460792610468808, 'eval_runtime': 2.5153, 'eval_samples_per_second': 609.071, 'eval_steps_per_second': 19.083, 'epoch': 10.0}\n"
          ]
        }
      ],
      "source": [
        "\n",
        "#Data Augmentation + Cosine Schedulerimport torch\n",
        "import nltk\n",
        "import numpy as np\n",
        "import pandas as pd\n",
        "import nlpaug.augmenter.word as naw\n",
        "import time\n",
        "from datasets import load_dataset\n",
        "from transformers import (\n",
        "    AutoTokenizer,\n",
        "    AutoModelForSequenceClassification,\n",
        "    Trainer,\n",
        "    TrainingArguments,\n",
        "    get_cosine_schedule_with_warmup\n",
        ")\n",
        "from sklearn.metrics import accuracy_score, precision_recall_fscore_support\n",
        "\n",
        "#  required NLTK resources\n",
        "nltk.download('wordnet')\n",
        "nltk.download('averaged_perceptron_tagger_eng')\n",
        "\n",
        "\n",
        "dataset = load_dataset(\"csv\", data_files={\"train\": \"ISEAR_train.csv\", \"test\": \"ISEAR_test.csv\"})\n",
        "\n",
        "\n",
        "unique_emotions = sorted(set(dataset[\"train\"][\"emotion\"]))\n",
        "emotion2label = {emotion: idx for idx, emotion in enumerate(unique_emotions)}\n",
        "num_labels = len(emotion2label)\n",
        "print(\"Emotion to label mapping:\", emotion2label)\n",
        "\n",
        "def map_emotion_to_label(example):\n",
        "    example[\"label\"] = emotion2label[example[\"emotion\"]]\n",
        "    return example\n",
        "\n",
        "dataset = dataset.map(map_emotion_to_label)\n",
        "\n",
        "# Data Augmentation: Create 30% more examples with synonym replacement\n",
        "aug = naw.SynonymAug(aug_p=0.3)\n",
        "def augment_data(example):\n",
        "    return {\"text\": aug.augment(example[\"text\"])[0], \"label\": example[\"label\"]}\n",
        "\n",
        "# Calculate number of examples to augment (30% of original training size)\n",
        "train_size = len(dataset[\"train\"])\n",
        "augment_size = int(train_size * 0.3)  # 30% more examples\n",
        "print(f\"Original training size: {train_size}, Augmenting {augment_size} examples\")\n",
        "\n",
        "# Randomly select 30% of the training data to augment\n",
        "augmented_subset = dataset[\"train\"].shuffle(seed=42).select(range(augment_size))\n",
        "augmented_data = augmented_subset.map(augment_data)\n",
        "\n",
        "# Combine original and augmented datasets\n",
        "from datasets import concatenate_datasets\n",
        "augmented_train = concatenate_datasets([dataset[\"train\"], augmented_data])\n",
        "\n",
        "\n",
        "roberta_model_name = \"roberta-base\"\n",
        "tokenizer_roberta = AutoTokenizer.from_pretrained(roberta_model_name)\n",
        "roberta_model = AutoModelForSequenceClassification.from_pretrained(roberta_model_name, num_labels=num_labels)\n",
        "\n",
        "\n",
        "def tokenize_roberta(examples):\n",
        "    return tokenizer_roberta(examples[\"text\"], truncation=True, padding=\"max_length\", max_length=128)\n",
        "\n",
        "# Tokenize both original test and augmented train datasets\n",
        "augmented_train = augmented_train.map(tokenize_roberta, batched=True)\n",
        "dataset[\"test\"] = dataset[\"test\"].map(tokenize_roberta, batched=True)\n",
        "augmented_train.set_format(type=\"torch\", columns=[\"input_ids\", \"attention_mask\", \"label\"])\n",
        "dataset[\"test\"].set_format(type=\"torch\", columns=[\"input_ids\", \"attention_mask\", \"label\"])\n",
        "\n",
        "\n",
        "def compute_metrics(eval_pred):\n",
        "    logits, labels = eval_pred\n",
        "    predictions = np.argmax(logits, axis=-1)\n",
        "    accuracy = accuracy_score(labels, predictions)\n",
        "    precision, recall, f1, _ = precision_recall_fscore_support(labels, predictions, average=\"weighted\")\n",
        "    return {\"accuracy\": accuracy, \"precision\": precision, \"recall\": recall, \"f1\": f1}\n",
        "\n",
        "# Training arguments with Cosine Scheduler\n",
        "roberta_training_args = TrainingArguments(\n",
        "    output_dir=\"./roberta_finetuned\",\n",
        "    evaluation_strategy=\"epoch\",\n",
        "    save_strategy=\"epoch\",\n",
        "    save_total_limit=2,\n",
        "    load_best_model_at_end=True,\n",
        "    learning_rate=2e-5,\n",
        "    per_device_train_batch_size=32,\n",
        "    per_device_eval_batch_size=32,\n",
        "    num_train_epochs=10,\n",
        "    weight_decay=0.01,\n",
        "    logging_dir=\"./logs\",\n",
        "    logging_steps=50,\n",
        "    metric_for_best_model=\"f1\",\n",
        "    greater_is_better=True,\n",
        "    save_on_each_node=False,\n",
        "    lr_scheduler_type=\"cosine\",\n",
        "    warmup_steps=100\n",
        ")\n",
        "\n",
        "# Create the Trainer for RoBERTa\n",
        "roberta_trainer = Trainer(\n",
        "    model=roberta_model,\n",
        "    args=roberta_training_args,\n",
        "    train_dataset=augmented_train,  # Use combined original + augmented data\n",
        "    eval_dataset=dataset[\"test\"],\n",
        "    compute_metrics=compute_metrics,\n",
        ")\n",
        "\n",
        "\n",
        "start_time = time.time()\n",
        "roberta_trainer.train()\n",
        "end_time = time.time()\n",
        "training_time = end_time - start_time\n",
        "print(f\" Training time: {training_time / 60:.2f} minutes\")\n",
        "\n",
        "print(\"Evaluating RoBERTa model...\")\n",
        "roberta_results = roberta_trainer.evaluate()\n",
        "print(\" RoBERTa evaluation results:\")\n",
        "print(roberta_results)"
      ]
    },
    {
      "cell_type": "code",
      "execution_count": null,
      "id": "545f722f-0c6a-4fc1-ab89-44cc8dda7427",
      "metadata": {
        "id": "545f722f-0c6a-4fc1-ab89-44cc8dda7427"
      },
      "outputs": [],
      "source": []
    }
  ],
  "metadata": {
    "kernelspec": {
      "display_name": "Python [conda env:base] *",
      "language": "python",
      "name": "conda-base-py"
    },
    "language_info": {
      "codemirror_mode": {
        "name": "ipython",
        "version": 3
      },
      "file_extension": ".py",
      "mimetype": "text/x-python",
      "name": "python",
      "nbconvert_exporter": "python",
      "pygments_lexer": "ipython3",
      "version": "3.11.6"
    },
    "colab": {
      "provenance": []
    }
  },
  "nbformat": 4,
  "nbformat_minor": 5
}