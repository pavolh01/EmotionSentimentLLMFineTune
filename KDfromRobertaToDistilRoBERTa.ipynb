{
  "cells": [
    {
      "cell_type": "code",
      "execution_count": null,
      "id": "8925cc95-3099-4f0f-b412-1d145b631f58",
      "metadata": {
        "colab": {
          "referenced_widgets": [
            "72f10f5c3e144f0db52d8b37c151cd19"
          ]
        },
        "id": "8925cc95-3099-4f0f-b412-1d145b631f58",
        "outputId": "2f2e9169-d0e3-4f99-a1e8-980b5e44bc78"
      },
      "outputs": [
        {
          "name": "stdout",
          "output_type": "stream",
          "text": [
            "Emotion to label mapping: {'anger': 0, 'disgust': 1, 'fear': 2, 'guilt': 3, 'joy': 4, 'sadness': 5, 'shame': 6}\n"
          ]
        },
        {
          "name": "stderr",
          "output_type": "stream",
          "text": [
            "Some weights of RobertaForSequenceClassification were not initialized from the model checkpoint at distilroberta-base and are newly initialized: ['classifier.dense.bias', 'classifier.dense.weight', 'classifier.out_proj.bias', 'classifier.out_proj.weight']\n",
            "You should probably TRAIN this model on a down-stream task to be able to use it for predictions and inference.\n"
          ]
        },
        {
          "data": {
            "application/vnd.jupyter.widget-view+json": {
              "model_id": "72f10f5c3e144f0db52d8b37c151cd19",
              "version_major": 2,
              "version_minor": 0
            },
            "text/plain": [
              "Map:   0%|          | 0/1532 [00:00<?, ? examples/s]"
            ]
          },
          "metadata": {},
          "output_type": "display_data"
        },
        {
          "name": "stdout",
          "output_type": "stream",
          "text": [
            "Training DistilRoBERTa student model with knowledge distillation...\n"
          ]
        },
        {
          "data": {
            "text/html": [
              "\n",
              "    <div>\n",
              "      \n",
              "      <progress value='960' max='960' style='width:300px; height:20px; vertical-align: middle;'></progress>\n",
              "      [960/960 13:55, Epoch 5/5]\n",
              "    </div>\n",
              "    <table border=\"1\" class=\"dataframe\">\n",
              "  <thead>\n",
              " <tr style=\"text-align: left;\">\n",
              "      <th>Epoch</th>\n",
              "      <th>Training Loss</th>\n",
              "      <th>Validation Loss</th>\n",
              "      <th>Accuracy</th>\n",
              "      <th>Precision</th>\n",
              "      <th>Recall</th>\n",
              "      <th>F1</th>\n",
              "    </tr>\n",
              "  </thead>\n",
              "  <tbody>\n",
              "    <tr>\n",
              "      <td>1</td>\n",
              "      <td>2.189300</td>\n",
              "      <td>1.418077</td>\n",
              "      <td>0.648825</td>\n",
              "      <td>0.653354</td>\n",
              "      <td>0.648825</td>\n",
              "      <td>0.644124</td>\n",
              "    </tr>\n",
              "    <tr>\n",
              "      <td>2</td>\n",
              "      <td>1.512800</td>\n",
              "      <td>1.145596</td>\n",
              "      <td>0.681462</td>\n",
              "      <td>0.691507</td>\n",
              "      <td>0.681462</td>\n",
              "      <td>0.675057</td>\n",
              "    </tr>\n",
              "    <tr>\n",
              "      <td>3</td>\n",
              "      <td>1.251000</td>\n",
              "      <td>1.023865</td>\n",
              "      <td>0.704308</td>\n",
              "      <td>0.707040</td>\n",
              "      <td>0.704308</td>\n",
              "      <td>0.704345</td>\n",
              "    </tr>\n",
              "    <tr>\n",
              "      <td>4</td>\n",
              "      <td>0.982800</td>\n",
              "      <td>1.004551</td>\n",
              "      <td>0.713446</td>\n",
              "      <td>0.715841</td>\n",
              "      <td>0.713446</td>\n",
              "      <td>0.713631</td>\n",
              "    </tr>\n",
              "    <tr>\n",
              "      <td>5</td>\n",
              "      <td>0.842500</td>\n",
              "      <td>0.989461</td>\n",
              "      <td>0.712141</td>\n",
              "      <td>0.714218</td>\n",
              "      <td>0.712141</td>\n",
              "      <td>0.713003</td>\n",
              "    </tr>\n",
              "  </tbody>\n",
              "</table><p>"
            ],
            "text/plain": [
              "<IPython.core.display.HTML object>"
            ]
          },
          "metadata": {},
          "output_type": "display_data"
        },
        {
          "name": "stdout",
          "output_type": "stream",
          "text": [
            "🕒 Training time: 13.94 minutes\n",
            "Evaluating DistilRoBERTa student model...\n"
          ]
        },
        {
          "data": {
            "text/html": [
              "\n",
              "    <div>\n",
              "      \n",
              "      <progress value='48' max='48' style='width:300px; height:20px; vertical-align: middle;'></progress>\n",
              "      [48/48 00:27]\n",
              "    </div>\n",
              "    "
            ],
            "text/plain": [
              "<IPython.core.display.HTML object>"
            ]
          },
          "metadata": {},
          "output_type": "display_data"
        },
        {
          "name": "stdout",
          "output_type": "stream",
          "text": [
            "📊 DistilRoBERTa student model evaluation results:\n",
            "{'eval_loss': 1.004550576210022, 'eval_accuracy': 0.7134464751958225, 'eval_precision': 0.7158413615889938, 'eval_recall': 0.7134464751958225, 'eval_f1': 0.7136306426575686, 'eval_runtime': 27.9712, 'eval_samples_per_second': 54.771, 'eval_steps_per_second': 1.716, 'epoch': 5.0}\n"
          ]
        }
      ],
      "source": [
        "import torch\n",
        "import numpy as np\n",
        "import pandas as pd\n",
        "import time\n",
        "from datasets import load_dataset\n",
        "from transformers import (\n",
        "    AutoTokenizer,\n",
        "    AutoModelForSequenceClassification,\n",
        "    Trainer,\n",
        "    TrainingArguments\n",
        ")\n",
        "from sklearn.metrics import accuracy_score, precision_recall_fscore_support\n",
        "import torch.nn.functional as F\n",
        "\n",
        "\n",
        "dataset = load_dataset(\"csv\", data_files={\"train\": \"ISEAR_train.csv\", \"test\": \"ISEAR_test.csv\"})\n",
        "\n",
        "\n",
        "unique_emotions = sorted(set(dataset[\"train\"][\"emotion\"]))\n",
        "emotion2label = {emotion: idx for idx, emotion in enumerate(unique_emotions)}\n",
        "num_labels = len(emotion2label)\n",
        "print(\"Emotion to label mapping:\", emotion2label)\n",
        "\n",
        "def map_emotion_to_label(example):\n",
        "    example[\"label\"] = emotion2label[example[\"emotion\"]]\n",
        "    return example\n",
        "\n",
        "dataset = dataset.map(map_emotion_to_label)\n",
        "\n",
        "teacher_model_name = \"./roberta_finetuned/checkpoint-1920\"\n",
        "student_model_name = \"distilroberta-base\"                   # Student model: DistilRoBERTa\n",
        "tokenizer = AutoTokenizer.from_pretrained(\"roberta-large\")  #  tokenizer from original roberta-large\n",
        "teacher_model = AutoModelForSequenceClassification.from_pretrained(teacher_model_name, num_labels=num_labels)\n",
        "student_model = AutoModelForSequenceClassification.from_pretrained(student_model_name, num_labels=num_labels)\n",
        "\n",
        "\n",
        "def tokenize_function(examples):\n",
        "    return tokenizer(examples[\"text\"], truncation=True, padding=\"max_length\", max_length=128)\n",
        "\n",
        "dataset = dataset.map(tokenize_function, batched=True)\n",
        "dataset.set_format(type=\"torch\", columns=[\"input_ids\", \"attention_mask\", \"label\"])\n",
        "\n",
        "\n",
        "def compute_metrics(eval_pred):\n",
        "    logits, labels = eval_pred\n",
        "    predictions = np.argmax(logits, axis=-1)\n",
        "    accuracy = accuracy_score(labels, predictions)\n",
        "    precision, recall, f1, _ = precision_recall_fscore_support(labels, predictions, average=\"weighted\")\n",
        "    return {\"accuracy\": accuracy, \"precision\": precision, \"recall\": recall, \"f1\": f1}\n",
        "\n",
        "\n",
        "class DistillationTrainer(Trainer):\n",
        "    def __init__(self, teacher_model, *args, **kwargs):\n",
        "        super().__init__(*args, **kwargs)\n",
        "        self.teacher_model = teacher_model.to(self.args.device)\n",
        "        self.teacher_model.eval()\n",
        "        self.distillation_alpha = 0.5\n",
        "        self.temperature = 2.0\n",
        "\n",
        "    def compute_loss(self, model, inputs, return_outputs=False, num_items_in_batch=None):\n",
        "        inputs = {k: v.to(self.args.device) for k, v in inputs.items()}\n",
        "        student_outputs = model(**inputs)\n",
        "        student_logits = student_outputs.logits\n",
        "        with torch.no_grad():\n",
        "            teacher_outputs = self.teacher_model(**inputs)\n",
        "            teacher_logits = teacher_outputs.logits\n",
        "        ce_loss = student_outputs.loss\n",
        "        soft_student = F.log_softmax(student_logits / self.temperature, dim=-1)\n",
        "        soft_teacher = F.softmax(teacher_logits / self.temperature, dim=-1)\n",
        "        distillation_loss = F.kl_div(soft_student, soft_teacher, reduction=\"batchmean\") * (self.temperature ** 2)\n",
        "        total_loss = self.distillation_alpha * distillation_loss + (1 - self.distillation_alpha) * ce_loss\n",
        "        return (total_loss, student_outputs) if return_outputs else total_loss\n",
        "\n",
        "\n",
        "student_training_args = TrainingArguments(\n",
        "    output_dir=\"./distilroberta_finetuned\",\n",
        "    eval_strategy=\"epoch\",\n",
        "    save_strategy=\"epoch\",\n",
        "    save_total_limit=2,\n",
        "    load_best_model_at_end=True,\n",
        "    learning_rate=2e-5,\n",
        "    per_device_train_batch_size=32,\n",
        "    per_device_eval_batch_size=32,\n",
        "    num_train_epochs=5,\n",
        "    weight_decay=0.01,\n",
        "    logging_dir=\"./logs_distil\",\n",
        "    logging_steps=50,\n",
        "    metric_for_best_model=\"f1\",\n",
        "    greater_is_better=True,\n",
        ")\n",
        "\n",
        "\n",
        "distillation_trainer = DistillationTrainer(\n",
        "    model=student_model,\n",
        "    teacher_model=teacher_model,\n",
        "    args=student_training_args,\n",
        "    train_dataset=dataset[\"train\"],\n",
        "    eval_dataset=dataset[\"test\"],\n",
        "    compute_metrics=compute_metrics,\n",
        ")\n",
        "\n",
        "\n",
        "start_time = time.time()\n",
        "distillation_trainer.train()\n",
        "end_time = time.time()\n",
        "training_time = end_time - start_time\n",
        "print(f\" Training time: {training_time / 60:.2f} minutes\")\n",
        "\n",
        "\n",
        "print(\"Evaluating DistilRoBERTa student model...\")\n",
        "student_results = distillation_trainer.evaluate()\n",
        "print(\" DistilRoBERTa student model evaluation results:\")\n",
        "print(student_results)"
      ]
    },
    {
      "cell_type": "code",
      "execution_count": null,
      "id": "2e5f5bd4-2f16-434f-a9ee-de551f060a6a",
      "metadata": {
        "id": "2e5f5bd4-2f16-434f-a9ee-de551f060a6a"
      },
      "outputs": [],
      "source": []
    },
    {
      "cell_type": "code",
      "execution_count": null,
      "id": "e3480604-6e73-4bbb-90bd-92f7e36f2749",
      "metadata": {
        "id": "e3480604-6e73-4bbb-90bd-92f7e36f2749"
      },
      "outputs": [],
      "source": []
    }
  ],
  "metadata": {
    "kernelspec": {
      "display_name": "Python [conda env:base] *",
      "language": "python",
      "name": "conda-base-py"
    },
    "language_info": {
      "codemirror_mode": {
        "name": "ipython",
        "version": 3
      },
      "file_extension": ".py",
      "mimetype": "text/x-python",
      "name": "python",
      "nbconvert_exporter": "python",
      "pygments_lexer": "ipython3",
      "version": "3.11.6"
    },
    "colab": {
      "provenance": []
    }
  },
  "nbformat": 4,
  "nbformat_minor": 5
}